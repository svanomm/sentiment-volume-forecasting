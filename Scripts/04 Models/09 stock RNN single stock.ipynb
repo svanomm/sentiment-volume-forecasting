{
 "cells": [
  {
   "cell_type": "code",
   "execution_count": 113,
   "id": "26aa2b37",
   "metadata": {},
   "outputs": [],
   "source": [
    "import pandas as pd\n",
    "import matplotlib.pyplot as plt\n",
    "import keras\n",
    "from zipfile import ZipFile\n",
    "import pickle\n",
    "import numpy as np\n",
    "from sklearn.preprocessing import StandardScaler\n",
    "from keras.preprocessing import timeseries_dataset_from_array as ts_split\n",
    "from keras import layers as kl"
   ]
  },
  {
   "cell_type": "code",
   "execution_count": 114,
   "id": "67991b7c",
   "metadata": {},
   "outputs": [
    {
     "data": {
      "text/html": [
       "<div>\n",
       "<style scoped>\n",
       "    .dataframe tbody tr th:only-of-type {\n",
       "        vertical-align: middle;\n",
       "    }\n",
       "\n",
       "    .dataframe tbody tr th {\n",
       "        vertical-align: top;\n",
       "    }\n",
       "\n",
       "    .dataframe thead th {\n",
       "        text-align: right;\n",
       "    }\n",
       "</style>\n",
       "<table border=\"1\" class=\"dataframe\">\n",
       "  <thead>\n",
       "    <tr style=\"text-align: right;\">\n",
       "      <th></th>\n",
       "      <th>AAL_Last</th>\n",
       "      <th>ALGT_Last</th>\n",
       "      <th>ALK_Last</th>\n",
       "      <th>DAL_Last</th>\n",
       "      <th>ITA_Last</th>\n",
       "      <th>IYT_Last</th>\n",
       "      <th>JBLU_Last</th>\n",
       "      <th>JETS_Last</th>\n",
       "      <th>LUV_Last</th>\n",
       "      <th>UAL_Last</th>\n",
       "    </tr>\n",
       "    <tr>\n",
       "      <th>Time</th>\n",
       "      <th></th>\n",
       "      <th></th>\n",
       "      <th></th>\n",
       "      <th></th>\n",
       "      <th></th>\n",
       "      <th></th>\n",
       "      <th></th>\n",
       "      <th></th>\n",
       "      <th></th>\n",
       "      <th></th>\n",
       "    </tr>\n",
       "  </thead>\n",
       "  <tbody>\n",
       "    <tr>\n",
       "      <th>2022-05-05 09:30:00</th>\n",
       "      <td>19.3500</td>\n",
       "      <td>156.740</td>\n",
       "      <td>52.6100</td>\n",
       "      <td>43.3400</td>\n",
       "      <td>105.7100</td>\n",
       "      <td>61.3925</td>\n",
       "      <td>11.2600</td>\n",
       "      <td>21.520</td>\n",
       "      <td>47.6609</td>\n",
       "      <td>51.350</td>\n",
       "    </tr>\n",
       "    <tr>\n",
       "      <th>2022-05-05 09:45:00</th>\n",
       "      <td>19.2200</td>\n",
       "      <td>155.295</td>\n",
       "      <td>52.5016</td>\n",
       "      <td>43.2553</td>\n",
       "      <td>105.4000</td>\n",
       "      <td>61.3375</td>\n",
       "      <td>11.2500</td>\n",
       "      <td>21.445</td>\n",
       "      <td>47.5900</td>\n",
       "      <td>51.020</td>\n",
       "    </tr>\n",
       "    <tr>\n",
       "      <th>2022-05-05 10:00:00</th>\n",
       "      <td>19.1600</td>\n",
       "      <td>154.910</td>\n",
       "      <td>52.3480</td>\n",
       "      <td>43.1900</td>\n",
       "      <td>104.7200</td>\n",
       "      <td>61.1175</td>\n",
       "      <td>11.2099</td>\n",
       "      <td>21.390</td>\n",
       "      <td>47.6100</td>\n",
       "      <td>50.850</td>\n",
       "    </tr>\n",
       "    <tr>\n",
       "      <th>2022-05-05 10:15:00</th>\n",
       "      <td>19.0700</td>\n",
       "      <td>154.360</td>\n",
       "      <td>52.0500</td>\n",
       "      <td>42.9300</td>\n",
       "      <td>104.6400</td>\n",
       "      <td>60.8625</td>\n",
       "      <td>11.1400</td>\n",
       "      <td>21.270</td>\n",
       "      <td>47.3750</td>\n",
       "      <td>50.506</td>\n",
       "    </tr>\n",
       "    <tr>\n",
       "      <th>2022-05-05 10:30:00</th>\n",
       "      <td>19.1000</td>\n",
       "      <td>153.915</td>\n",
       "      <td>51.9000</td>\n",
       "      <td>42.8600</td>\n",
       "      <td>104.5600</td>\n",
       "      <td>60.7750</td>\n",
       "      <td>11.1400</td>\n",
       "      <td>21.270</td>\n",
       "      <td>47.3100</td>\n",
       "      <td>50.510</td>\n",
       "    </tr>\n",
       "    <tr>\n",
       "      <th>...</th>\n",
       "      <td>...</td>\n",
       "      <td>...</td>\n",
       "      <td>...</td>\n",
       "      <td>...</td>\n",
       "      <td>...</td>\n",
       "      <td>...</td>\n",
       "      <td>...</td>\n",
       "      <td>...</td>\n",
       "      <td>...</td>\n",
       "      <td>...</td>\n",
       "    </tr>\n",
       "    <tr>\n",
       "      <th>2025-05-30 14:45:00</th>\n",
       "      <td>11.4250</td>\n",
       "      <td>55.945</td>\n",
       "      <td>51.3300</td>\n",
       "      <td>48.3850</td>\n",
       "      <td>176.8500</td>\n",
       "      <td>65.4800</td>\n",
       "      <td>5.1300</td>\n",
       "      <td>22.675</td>\n",
       "      <td>33.4150</td>\n",
       "      <td>79.480</td>\n",
       "    </tr>\n",
       "    <tr>\n",
       "      <th>2025-05-30 15:00:00</th>\n",
       "      <td>11.4350</td>\n",
       "      <td>55.930</td>\n",
       "      <td>51.2850</td>\n",
       "      <td>48.4850</td>\n",
       "      <td>177.0475</td>\n",
       "      <td>65.4950</td>\n",
       "      <td>5.1100</td>\n",
       "      <td>22.690</td>\n",
       "      <td>33.4850</td>\n",
       "      <td>79.520</td>\n",
       "    </tr>\n",
       "    <tr>\n",
       "      <th>2025-05-30 15:15:00</th>\n",
       "      <td>11.4650</td>\n",
       "      <td>56.050</td>\n",
       "      <td>51.4100</td>\n",
       "      <td>48.6550</td>\n",
       "      <td>177.4300</td>\n",
       "      <td>65.6100</td>\n",
       "      <td>5.1250</td>\n",
       "      <td>22.740</td>\n",
       "      <td>33.5550</td>\n",
       "      <td>79.910</td>\n",
       "    </tr>\n",
       "    <tr>\n",
       "      <th>2025-05-30 15:30:00</th>\n",
       "      <td>11.4501</td>\n",
       "      <td>55.990</td>\n",
       "      <td>51.2500</td>\n",
       "      <td>48.5375</td>\n",
       "      <td>177.2300</td>\n",
       "      <td>65.5200</td>\n",
       "      <td>5.1000</td>\n",
       "      <td>22.720</td>\n",
       "      <td>33.5050</td>\n",
       "      <td>79.760</td>\n",
       "    </tr>\n",
       "    <tr>\n",
       "      <th>2025-05-30 15:45:00</th>\n",
       "      <td>11.4100</td>\n",
       "      <td>55.580</td>\n",
       "      <td>50.9100</td>\n",
       "      <td>48.3800</td>\n",
       "      <td>177.2400</td>\n",
       "      <td>65.5200</td>\n",
       "      <td>5.0500</td>\n",
       "      <td>22.720</td>\n",
       "      <td>33.3700</td>\n",
       "      <td>79.445</td>\n",
       "    </tr>\n",
       "  </tbody>\n",
       "</table>\n",
       "<p>19954 rows × 10 columns</p>\n",
       "</div>"
      ],
      "text/plain": [
       "                     AAL_Last  ALGT_Last  ALK_Last  DAL_Last  ITA_Last  \\\n",
       "Time                                                                     \n",
       "2022-05-05 09:30:00   19.3500    156.740   52.6100   43.3400  105.7100   \n",
       "2022-05-05 09:45:00   19.2200    155.295   52.5016   43.2553  105.4000   \n",
       "2022-05-05 10:00:00   19.1600    154.910   52.3480   43.1900  104.7200   \n",
       "2022-05-05 10:15:00   19.0700    154.360   52.0500   42.9300  104.6400   \n",
       "2022-05-05 10:30:00   19.1000    153.915   51.9000   42.8600  104.5600   \n",
       "...                       ...        ...       ...       ...       ...   \n",
       "2025-05-30 14:45:00   11.4250     55.945   51.3300   48.3850  176.8500   \n",
       "2025-05-30 15:00:00   11.4350     55.930   51.2850   48.4850  177.0475   \n",
       "2025-05-30 15:15:00   11.4650     56.050   51.4100   48.6550  177.4300   \n",
       "2025-05-30 15:30:00   11.4501     55.990   51.2500   48.5375  177.2300   \n",
       "2025-05-30 15:45:00   11.4100     55.580   50.9100   48.3800  177.2400   \n",
       "\n",
       "                     IYT_Last  JBLU_Last  JETS_Last  LUV_Last  UAL_Last  \n",
       "Time                                                                     \n",
       "2022-05-05 09:30:00   61.3925    11.2600     21.520   47.6609    51.350  \n",
       "2022-05-05 09:45:00   61.3375    11.2500     21.445   47.5900    51.020  \n",
       "2022-05-05 10:00:00   61.1175    11.2099     21.390   47.6100    50.850  \n",
       "2022-05-05 10:15:00   60.8625    11.1400     21.270   47.3750    50.506  \n",
       "2022-05-05 10:30:00   60.7750    11.1400     21.270   47.3100    50.510  \n",
       "...                       ...        ...        ...       ...       ...  \n",
       "2025-05-30 14:45:00   65.4800     5.1300     22.675   33.4150    79.480  \n",
       "2025-05-30 15:00:00   65.4950     5.1100     22.690   33.4850    79.520  \n",
       "2025-05-30 15:15:00   65.6100     5.1250     22.740   33.5550    79.910  \n",
       "2025-05-30 15:30:00   65.5200     5.1000     22.720   33.5050    79.760  \n",
       "2025-05-30 15:45:00   65.5200     5.0500     22.720   33.3700    79.445  \n",
       "\n",
       "[19954 rows x 10 columns]"
      ]
     },
     "execution_count": 114,
     "metadata": {},
     "output_type": "execute_result"
    }
   ],
   "source": [
    "# Open the pickle file\n",
    "df = pickle.load(open('../data/processed/stock_data_simple.pkl', 'rb'))\n",
    "df"
   ]
  },
  {
   "cell_type": "code",
   "execution_count": 115,
   "id": "e1ef3cc7",
   "metadata": {},
   "outputs": [],
   "source": [
    "# Data preprocessing\n",
    "# Forward fill missing values\n",
    "df = df.ffill()\n",
    "\n",
    "y_cols = ['AAL_Last']\n",
    "#x_cols = ['AAL_Last','ALGT_Last','ALK_Last','DAL_Last','ITA_Last','IYT_Last','JBLU_Last','JETS_Last','LUV_Last','UAL_Last']\n",
    "x_cols = ['AAL_Last']\n",
    "\n",
    "y = df[y_cols]\n",
    "x = df[x_cols]"
   ]
  },
  {
   "cell_type": "code",
   "execution_count": 116,
   "id": "4f4701b2",
   "metadata": {},
   "outputs": [],
   "source": [
    "# Train/text splitting\n",
    "split_val  = round(0.7 * len(x))\n",
    "split_test = round(0.9 * len(x))\n",
    "\n",
    "x_train = x[:split_val]\n",
    "x_val   = x[split_val:split_test]\n",
    "x_test  = x[split_test:]\n",
    "\n",
    "y_train = y[:split_val]\n",
    "y_val   = y[split_val:split_test]\n",
    "y_test  = y[split_test:]"
   ]
  },
  {
   "cell_type": "code",
   "execution_count": 117,
   "id": "e2d96ce8",
   "metadata": {},
   "outputs": [
    {
     "data": {
      "text/plain": [
       "array([[ 3.14069416],\n",
       "       [ 3.06018014],\n",
       "       [ 3.02301983],\n",
       "       ...,\n",
       "       [-1.94252734],\n",
       "       [-1.94407569],\n",
       "       [-1.94413762]])"
      ]
     },
     "execution_count": 117,
     "metadata": {},
     "output_type": "execute_result"
    }
   ],
   "source": [
    "# Normalize the features to mean=0 and std=1\n",
    "sc = StandardScaler()\n",
    "\n",
    "x_train = sc.fit_transform(x_train)\n",
    "x_test  = sc.fit_transform(x_test)\n",
    "x_val   = sc.fit_transform(x_val)\n",
    "y_train = sc.fit_transform(y_train)\n",
    "y_test  = sc.fit_transform(y_test)\n",
    "y_val   = sc.fit_transform(y_val)\n",
    "\n",
    "y_train"
   ]
  },
  {
   "cell_type": "code",
   "execution_count": 118,
   "id": "e2f3f558",
   "metadata": {},
   "outputs": [
    {
     "data": {
      "text/plain": [
       "(13968, 1)"
      ]
     },
     "execution_count": 118,
     "metadata": {},
     "output_type": "execute_result"
    }
   ],
   "source": [
    "y_train.shape"
   ]
  },
  {
   "cell_type": "code",
   "execution_count": 119,
   "id": "02aac98d",
   "metadata": {},
   "outputs": [
    {
     "data": {
      "text/plain": [
       "array([[3.14069416],\n",
       "       [3.06018014]])"
      ]
     },
     "execution_count": 119,
     "metadata": {},
     "output_type": "execute_result"
    }
   ],
   "source": [
    "x_train[0:2]"
   ]
  },
  {
   "cell_type": "code",
   "execution_count": 120,
   "id": "5a8511b6",
   "metadata": {},
   "outputs": [],
   "source": [
    "def create_tensor(data, type:str, steps_historical=100, steps_future=12, skiprows=1):\n",
    "    # Need to fix skiprows to make the output data shorter\n",
    "\n",
    "    tot_length = len(data) - steps_historical - steps_future + 1\n",
    "\n",
    "    if type.lower() == 'x':\n",
    "        x_tensor = np.zeros(shape=(tot_length, steps_historical, data.shape[1]))\n",
    "        for i in range(0, tot_length, skiprows):\n",
    "            j = i + steps_historical\n",
    "            x_tensor[i] = data[i:j]\n",
    "        return x_tensor\n",
    "    \n",
    "    elif type.lower() == 'y':\n",
    "        y_tensor = np.zeros(shape=(tot_length, steps_future, data.shape[1]))\n",
    "        for i in range(0, tot_length, skiprows):\n",
    "            j = i + steps_historical\n",
    "            k = j + steps_future\n",
    "            y_tensor[i] = data[j:k]\n",
    "        return y_tensor\n",
    "    \n",
    "    else:\n",
    "        raise ValueError(\"Type must be 'x' or 'y'.\")"
   ]
  },
  {
   "cell_type": "code",
   "execution_count": 121,
   "id": "ec84237e",
   "metadata": {},
   "outputs": [],
   "source": [
    "steps_historical = 2\n",
    "steps_future = 12\n",
    "\n",
    "x_tensor_train = create_tensor(x_train, type='x', steps_historical=steps_historical, steps_future=steps_future)\n",
    "x_tensor_test  = create_tensor(x_test , type='x', steps_historical=steps_historical, steps_future=steps_future)\n",
    "x_tensor_val   = create_tensor(x_val  , type='x', steps_historical=steps_historical, steps_future=steps_future)\n",
    "y_tensor_train = create_tensor(y_train, type='y', steps_historical=steps_historical, steps_future=steps_future)\n",
    "y_tensor_test  = create_tensor(y_test , type='y', steps_historical=steps_historical, steps_future=steps_future)\n",
    "y_tensor_val   = create_tensor(y_val  , type='y', steps_historical=steps_historical, steps_future=steps_future)"
   ]
  },
  {
   "cell_type": "code",
   "execution_count": 122,
   "id": "79a9a761",
   "metadata": {},
   "outputs": [
    {
     "name": "stdout",
     "output_type": "stream",
     "text": [
      "x_tensor_train shape: (13955, 2, 1)\n",
      "x_tensor_test shape: (1982, 2, 1)\n",
      "x_tensor_val shape: (3978, 2, 1)\n",
      "y_tensor_train shape: (13955, 12, 1)\n",
      "y_tensor_test shape: (1982, 12, 1)\n",
      "y_tensor_val shape: (3978, 12, 1)\n"
     ]
    }
   ],
   "source": [
    "for i in ['x_tensor_train', 'x_tensor_test', 'x_tensor_val', 'y_tensor_train', 'y_tensor_test', 'y_tensor_val']:\n",
    "    print(f\"{i} shape: {eval(i).shape}\")"
   ]
  },
  {
   "cell_type": "code",
   "execution_count": 123,
   "id": "3c96bf49",
   "metadata": {},
   "outputs": [
    {
     "data": {
      "text/plain": [
       "array([[[-0.73192923],\n",
       "        [-0.72858534],\n",
       "        [-0.71120406],\n",
       "        ...,\n",
       "        [-0.69901278],\n",
       "        [-0.69727117],\n",
       "        [-0.71991211]],\n",
       "\n",
       "       [[-0.72858534],\n",
       "        [-0.71120406],\n",
       "        [-0.72862017],\n",
       "        ...,\n",
       "        [-0.69727117],\n",
       "        [-0.71991211],\n",
       "        [-0.70225218]],\n",
       "\n",
       "       [[-0.71120406],\n",
       "        [-0.72862017],\n",
       "        [-0.73210339],\n",
       "        ...,\n",
       "        [-0.71991211],\n",
       "        [-0.70225218],\n",
       "        [-0.68678667]],\n",
       "\n",
       "       ...,\n",
       "\n",
       "       [[ 1.38743709],\n",
       "        [ 1.3891787 ],\n",
       "        [ 1.39266193],\n",
       "        ...,\n",
       "        [ 1.15057801],\n",
       "        [ 1.18541023],\n",
       "        [ 1.16799412]],\n",
       "\n",
       "       [[ 1.3891787 ],\n",
       "        [ 1.39266193],\n",
       "        [ 1.38388421],\n",
       "        ...,\n",
       "        [ 1.18541023],\n",
       "        [ 1.16799412],\n",
       "        [ 1.1645109 ]],\n",
       "\n",
       "       [[ 1.39266193],\n",
       "        [ 1.38388421],\n",
       "        [ 1.38182911],\n",
       "        ...,\n",
       "        [ 1.16799412],\n",
       "        [ 1.1645109 ],\n",
       "        [ 1.17496056]]])"
      ]
     },
     "execution_count": 123,
     "metadata": {},
     "output_type": "execute_result"
    }
   ],
   "source": [
    "y_tensor_val"
   ]
  },
  {
   "cell_type": "code",
   "execution_count": 124,
   "id": "dd632285",
   "metadata": {},
   "outputs": [
    {
     "data": {
      "text/html": [
       "<pre style=\"white-space:pre;overflow-x:auto;line-height:normal;font-family:Menlo,'DejaVu Sans Mono',consolas,'Courier New',monospace\"><span style=\"font-weight: bold\">Model: \"sequential_13\"</span>\n",
       "</pre>\n"
      ],
      "text/plain": [
       "\u001b[1mModel: \"sequential_13\"\u001b[0m\n"
      ]
     },
     "metadata": {},
     "output_type": "display_data"
    },
    {
     "data": {
      "text/html": [
       "<pre style=\"white-space:pre;overflow-x:auto;line-height:normal;font-family:Menlo,'DejaVu Sans Mono',consolas,'Courier New',monospace\">┏━━━━━━━━━━━━━━━━━━━━━━━━━━━━━━━━━┳━━━━━━━━━━━━━━━━━━━━━━━━┳━━━━━━━━━━━━━━━┓\n",
       "┃<span style=\"font-weight: bold\"> Layer (type)                    </span>┃<span style=\"font-weight: bold\"> Output Shape           </span>┃<span style=\"font-weight: bold\">       Param # </span>┃\n",
       "┡━━━━━━━━━━━━━━━━━━━━━━━━━━━━━━━━━╇━━━━━━━━━━━━━━━━━━━━━━━━╇━━━━━━━━━━━━━━━┩\n",
       "│ simple_rnn_13 (<span style=\"color: #0087ff; text-decoration-color: #0087ff\">SimpleRNN</span>)       │ (<span style=\"color: #00d7ff; text-decoration-color: #00d7ff\">None</span>, <span style=\"color: #00af00; text-decoration-color: #00af00\">10</span>)             │           <span style=\"color: #00af00; text-decoration-color: #00af00\">120</span> │\n",
       "├─────────────────────────────────┼────────────────────────┼───────────────┤\n",
       "│ dense_13 (<span style=\"color: #0087ff; text-decoration-color: #0087ff\">Dense</span>)                │ (<span style=\"color: #00d7ff; text-decoration-color: #00d7ff\">None</span>, <span style=\"color: #00af00; text-decoration-color: #00af00\">1</span>)              │            <span style=\"color: #00af00; text-decoration-color: #00af00\">11</span> │\n",
       "└─────────────────────────────────┴────────────────────────┴───────────────┘\n",
       "</pre>\n"
      ],
      "text/plain": [
       "┏━━━━━━━━━━━━━━━━━━━━━━━━━━━━━━━━━┳━━━━━━━━━━━━━━━━━━━━━━━━┳━━━━━━━━━━━━━━━┓\n",
       "┃\u001b[1m \u001b[0m\u001b[1mLayer (type)                   \u001b[0m\u001b[1m \u001b[0m┃\u001b[1m \u001b[0m\u001b[1mOutput Shape          \u001b[0m\u001b[1m \u001b[0m┃\u001b[1m \u001b[0m\u001b[1m      Param #\u001b[0m\u001b[1m \u001b[0m┃\n",
       "┡━━━━━━━━━━━━━━━━━━━━━━━━━━━━━━━━━╇━━━━━━━━━━━━━━━━━━━━━━━━╇━━━━━━━━━━━━━━━┩\n",
       "│ simple_rnn_13 (\u001b[38;5;33mSimpleRNN\u001b[0m)       │ (\u001b[38;5;45mNone\u001b[0m, \u001b[38;5;34m10\u001b[0m)             │           \u001b[38;5;34m120\u001b[0m │\n",
       "├─────────────────────────────────┼────────────────────────┼───────────────┤\n",
       "│ dense_13 (\u001b[38;5;33mDense\u001b[0m)                │ (\u001b[38;5;45mNone\u001b[0m, \u001b[38;5;34m1\u001b[0m)              │            \u001b[38;5;34m11\u001b[0m │\n",
       "└─────────────────────────────────┴────────────────────────┴───────────────┘\n"
      ]
     },
     "metadata": {},
     "output_type": "display_data"
    },
    {
     "data": {
      "text/html": [
       "<pre style=\"white-space:pre;overflow-x:auto;line-height:normal;font-family:Menlo,'DejaVu Sans Mono',consolas,'Courier New',monospace\"><span style=\"font-weight: bold\"> Total params: </span><span style=\"color: #00af00; text-decoration-color: #00af00\">131</span> (524.00 B)\n",
       "</pre>\n"
      ],
      "text/plain": [
       "\u001b[1m Total params: \u001b[0m\u001b[38;5;34m131\u001b[0m (524.00 B)\n"
      ]
     },
     "metadata": {},
     "output_type": "display_data"
    },
    {
     "data": {
      "text/html": [
       "<pre style=\"white-space:pre;overflow-x:auto;line-height:normal;font-family:Menlo,'DejaVu Sans Mono',consolas,'Courier New',monospace\"><span style=\"font-weight: bold\"> Trainable params: </span><span style=\"color: #00af00; text-decoration-color: #00af00\">131</span> (524.00 B)\n",
       "</pre>\n"
      ],
      "text/plain": [
       "\u001b[1m Trainable params: \u001b[0m\u001b[38;5;34m131\u001b[0m (524.00 B)\n"
      ]
     },
     "metadata": {},
     "output_type": "display_data"
    },
    {
     "data": {
      "text/html": [
       "<pre style=\"white-space:pre;overflow-x:auto;line-height:normal;font-family:Menlo,'DejaVu Sans Mono',consolas,'Courier New',monospace\"><span style=\"font-weight: bold\"> Non-trainable params: </span><span style=\"color: #00af00; text-decoration-color: #00af00\">0</span> (0.00 B)\n",
       "</pre>\n"
      ],
      "text/plain": [
       "\u001b[1m Non-trainable params: \u001b[0m\u001b[38;5;34m0\u001b[0m (0.00 B)\n"
      ]
     },
     "metadata": {},
     "output_type": "display_data"
    }
   ],
   "source": [
    "# Designing the model structure\n",
    "model = keras.Sequential([\n",
    "    kl.Input(shape=(steps_historical, len(x_cols))),\n",
    "    kl.SimpleRNN(10, return_sequences=False),\n",
    "    kl.Dense(len(y_cols))\n",
    "])\n",
    "\n",
    "model.compile(\n",
    "    optimizer = 'adam', \n",
    "    loss = 'mean_squared_error'\n",
    "    )\n",
    "model.summary()"
   ]
  },
  {
   "cell_type": "code",
   "execution_count": 125,
   "id": "3ed93e71",
   "metadata": {},
   "outputs": [
    {
     "name": "stdout",
     "output_type": "stream",
     "text": [
      "Epoch 1/100\n"
     ]
    },
    {
     "name": "stdout",
     "output_type": "stream",
     "text": [
      "\u001b[1m437/437\u001b[0m \u001b[32m━━━━━━━━━━━━━━━━━━━━\u001b[0m\u001b[37m\u001b[0m \u001b[1m2s\u001b[0m 2ms/step - loss: 0.9358 - val_loss: 0.0093\n",
      "Epoch 2/100\n",
      "\u001b[1m437/437\u001b[0m \u001b[32m━━━━━━━━━━━━━━━━━━━━\u001b[0m\u001b[37m\u001b[0m \u001b[1m1s\u001b[0m 1ms/step - loss: 0.0315 - val_loss: 0.0066\n",
      "Epoch 3/100\n",
      "\u001b[1m437/437\u001b[0m \u001b[32m━━━━━━━━━━━━━━━━━━━━\u001b[0m\u001b[37m\u001b[0m \u001b[1m1s\u001b[0m 1ms/step - loss: 0.0204 - val_loss: 0.0062\n",
      "Epoch 4/100\n",
      "\u001b[1m437/437\u001b[0m \u001b[32m━━━━━━━━━━━━━━━━━━━━\u001b[0m\u001b[37m\u001b[0m \u001b[1m1s\u001b[0m 1ms/step - loss: 0.0187 - val_loss: 0.0059\n",
      "Epoch 5/100\n",
      "\u001b[1m437/437\u001b[0m \u001b[32m━━━━━━━━━━━━━━━━━━━━\u001b[0m\u001b[37m\u001b[0m \u001b[1m1s\u001b[0m 1ms/step - loss: 0.0163 - val_loss: 0.0058\n",
      "Epoch 6/100\n",
      "\u001b[1m437/437\u001b[0m \u001b[32m━━━━━━━━━━━━━━━━━━━━\u001b[0m\u001b[37m\u001b[0m \u001b[1m1s\u001b[0m 1ms/step - loss: 0.0172 - val_loss: 0.0053\n",
      "Epoch 7/100\n",
      "\u001b[1m437/437\u001b[0m \u001b[32m━━━━━━━━━━━━━━━━━━━━\u001b[0m\u001b[37m\u001b[0m \u001b[1m1s\u001b[0m 1ms/step - loss: 0.0161 - val_loss: 0.0050\n",
      "Epoch 8/100\n",
      "\u001b[1m437/437\u001b[0m \u001b[32m━━━━━━━━━━━━━━━━━━━━\u001b[0m\u001b[37m\u001b[0m \u001b[1m1s\u001b[0m 1ms/step - loss: 0.0161 - val_loss: 0.0049\n",
      "Epoch 9/100\n",
      "\u001b[1m437/437\u001b[0m \u001b[32m━━━━━━━━━━━━━━━━━━━━\u001b[0m\u001b[37m\u001b[0m \u001b[1m1s\u001b[0m 1ms/step - loss: 0.0156 - val_loss: 0.0049\n",
      "Epoch 10/100\n",
      "\u001b[1m437/437\u001b[0m \u001b[32m━━━━━━━━━━━━━━━━━━━━\u001b[0m\u001b[37m\u001b[0m \u001b[1m1s\u001b[0m 1ms/step - loss: 0.0158 - val_loss: 0.0048\n",
      "Epoch 11/100\n",
      "\u001b[1m437/437\u001b[0m \u001b[32m━━━━━━━━━━━━━━━━━━━━\u001b[0m\u001b[37m\u001b[0m \u001b[1m1s\u001b[0m 1ms/step - loss: 0.0156 - val_loss: 0.0047\n",
      "Epoch 12/100\n",
      "\u001b[1m437/437\u001b[0m \u001b[32m━━━━━━━━━━━━━━━━━━━━\u001b[0m\u001b[37m\u001b[0m \u001b[1m1s\u001b[0m 1ms/step - loss: 0.0148 - val_loss: 0.0048\n",
      "Epoch 13/100\n",
      "\u001b[1m437/437\u001b[0m \u001b[32m━━━━━━━━━━━━━━━━━━━━\u001b[0m\u001b[37m\u001b[0m \u001b[1m1s\u001b[0m 1ms/step - loss: 0.0151 - val_loss: 0.0048\n",
      "Epoch 14/100\n",
      "\u001b[1m437/437\u001b[0m \u001b[32m━━━━━━━━━━━━━━━━━━━━\u001b[0m\u001b[37m\u001b[0m \u001b[1m1s\u001b[0m 1ms/step - loss: 0.0149 - val_loss: 0.0048\n",
      "Epoch 15/100\n",
      "\u001b[1m437/437\u001b[0m \u001b[32m━━━━━━━━━━━━━━━━━━━━\u001b[0m\u001b[37m\u001b[0m \u001b[1m1s\u001b[0m 1ms/step - loss: 0.0165 - val_loss: 0.0046\n",
      "Epoch 16/100\n",
      "\u001b[1m437/437\u001b[0m \u001b[32m━━━━━━━━━━━━━━━━━━━━\u001b[0m\u001b[37m\u001b[0m \u001b[1m1s\u001b[0m 1ms/step - loss: 0.0157 - val_loss: 0.0046\n",
      "Epoch 17/100\n",
      "\u001b[1m437/437\u001b[0m \u001b[32m━━━━━━━━━━━━━━━━━━━━\u001b[0m\u001b[37m\u001b[0m \u001b[1m1s\u001b[0m 1ms/step - loss: 0.0155 - val_loss: 0.0047\n",
      "Epoch 18/100\n",
      "\u001b[1m437/437\u001b[0m \u001b[32m━━━━━━━━━━━━━━━━━━━━\u001b[0m\u001b[37m\u001b[0m \u001b[1m1s\u001b[0m 1ms/step - loss: 0.0148 - val_loss: 0.0050\n",
      "Epoch 19/100\n",
      "\u001b[1m437/437\u001b[0m \u001b[32m━━━━━━━━━━━━━━━━━━━━\u001b[0m\u001b[37m\u001b[0m \u001b[1m1s\u001b[0m 1ms/step - loss: 0.0156 - val_loss: 0.0059\n",
      "Epoch 20/100\n",
      "\u001b[1m437/437\u001b[0m \u001b[32m━━━━━━━━━━━━━━━━━━━━\u001b[0m\u001b[37m\u001b[0m \u001b[1m1s\u001b[0m 1ms/step - loss: 0.0155 - val_loss: 0.0048\n",
      "Epoch 21/100\n",
      "\u001b[1m437/437\u001b[0m \u001b[32m━━━━━━━━━━━━━━━━━━━━\u001b[0m\u001b[37m\u001b[0m \u001b[1m1s\u001b[0m 1ms/step - loss: 0.0159 - val_loss: 0.0046\n",
      "Epoch 22/100\n",
      "\u001b[1m437/437\u001b[0m \u001b[32m━━━━━━━━━━━━━━━━━━━━\u001b[0m\u001b[37m\u001b[0m \u001b[1m1s\u001b[0m 1ms/step - loss: 0.0142 - val_loss: 0.0046\n",
      "Epoch 23/100\n",
      "\u001b[1m437/437\u001b[0m \u001b[32m━━━━━━━━━━━━━━━━━━━━\u001b[0m\u001b[37m\u001b[0m \u001b[1m1s\u001b[0m 1ms/step - loss: 0.0156 - val_loss: 0.0047\n",
      "Epoch 24/100\n",
      "\u001b[1m437/437\u001b[0m \u001b[32m━━━━━━━━━━━━━━━━━━━━\u001b[0m\u001b[37m\u001b[0m \u001b[1m1s\u001b[0m 1ms/step - loss: 0.0149 - val_loss: 0.0046\n",
      "Epoch 25/100\n",
      "\u001b[1m437/437\u001b[0m \u001b[32m━━━━━━━━━━━━━━━━━━━━\u001b[0m\u001b[37m\u001b[0m \u001b[1m1s\u001b[0m 1ms/step - loss: 0.0148 - val_loss: 0.0057\n",
      "Epoch 26/100\n",
      "\u001b[1m437/437\u001b[0m \u001b[32m━━━━━━━━━━━━━━━━━━━━\u001b[0m\u001b[37m\u001b[0m \u001b[1m1s\u001b[0m 1ms/step - loss: 0.0155 - val_loss: 0.0054\n",
      "Epoch 27/100\n",
      "\u001b[1m437/437\u001b[0m \u001b[32m━━━━━━━━━━━━━━━━━━━━\u001b[0m\u001b[37m\u001b[0m \u001b[1m1s\u001b[0m 1ms/step - loss: 0.0153 - val_loss: 0.0046\n",
      "Epoch 28/100\n",
      "\u001b[1m437/437\u001b[0m \u001b[32m━━━━━━━━━━━━━━━━━━━━\u001b[0m\u001b[37m\u001b[0m \u001b[1m1s\u001b[0m 1ms/step - loss: 0.0150 - val_loss: 0.0048\n",
      "Epoch 29/100\n",
      "\u001b[1m437/437\u001b[0m \u001b[32m━━━━━━━━━━━━━━━━━━━━\u001b[0m\u001b[37m\u001b[0m \u001b[1m1s\u001b[0m 1ms/step - loss: 0.0150 - val_loss: 0.0046\n",
      "Epoch 30/100\n",
      "\u001b[1m437/437\u001b[0m \u001b[32m━━━━━━━━━━━━━━━━━━━━\u001b[0m\u001b[37m\u001b[0m \u001b[1m1s\u001b[0m 1ms/step - loss: 0.0150 - val_loss: 0.0051\n",
      "Epoch 31/100\n",
      "\u001b[1m437/437\u001b[0m \u001b[32m━━━━━━━━━━━━━━━━━━━━\u001b[0m\u001b[37m\u001b[0m \u001b[1m1s\u001b[0m 1ms/step - loss: 0.0153 - val_loss: 0.0046\n",
      "Epoch 32/100\n",
      "\u001b[1m437/437\u001b[0m \u001b[32m━━━━━━━━━━━━━━━━━━━━\u001b[0m\u001b[37m\u001b[0m \u001b[1m1s\u001b[0m 1ms/step - loss: 0.0147 - val_loss: 0.0046\n",
      "Epoch 33/100\n",
      "\u001b[1m437/437\u001b[0m \u001b[32m━━━━━━━━━━━━━━━━━━━━\u001b[0m\u001b[37m\u001b[0m \u001b[1m1s\u001b[0m 1ms/step - loss: 0.0150 - val_loss: 0.0050\n",
      "Epoch 34/100\n",
      "\u001b[1m437/437\u001b[0m \u001b[32m━━━━━━━━━━━━━━━━━━━━\u001b[0m\u001b[37m\u001b[0m \u001b[1m1s\u001b[0m 1ms/step - loss: 0.0156 - val_loss: 0.0049\n",
      "Epoch 35/100\n",
      "\u001b[1m437/437\u001b[0m \u001b[32m━━━━━━━━━━━━━━━━━━━━\u001b[0m\u001b[37m\u001b[0m \u001b[1m1s\u001b[0m 1ms/step - loss: 0.0148 - val_loss: 0.0047\n",
      "Epoch 36/100\n",
      "\u001b[1m437/437\u001b[0m \u001b[32m━━━━━━━━━━━━━━━━━━━━\u001b[0m\u001b[37m\u001b[0m \u001b[1m1s\u001b[0m 1ms/step - loss: 0.0154 - val_loss: 0.0064\n",
      "Epoch 37/100\n",
      "\u001b[1m437/437\u001b[0m \u001b[32m━━━━━━━━━━━━━━━━━━━━\u001b[0m\u001b[37m\u001b[0m \u001b[1m1s\u001b[0m 1ms/step - loss: 0.0150 - val_loss: 0.0050\n"
     ]
    }
   ],
   "source": [
    "# This will monitor validation loss and stop training if it doesn't improve after 5 epochs\n",
    "es_callback = keras.callbacks.EarlyStopping(monitor=\"val_loss\", min_delta=0, patience=10)\n",
    "\n",
    "history = model.fit(\n",
    "    x_tensor_train, \n",
    "    y_tensor_train,\n",
    "    validation_data = (x_tensor_val, y_tensor_val),\n",
    "    epochs = 100, \n",
    "    verbose = 1,\n",
    "    batch_size = None,\n",
    "    callbacks = [es_callback])"
   ]
  },
  {
   "cell_type": "code",
   "execution_count": 126,
   "id": "da9e8304",
   "metadata": {},
   "outputs": [
    {
     "data": {
      "image/png": "[encoded data removed]",
      "text/plain": [
       "<Figure size 640x480 with 1 Axes>"
      ]
     },
     "metadata": {},
     "output_type": "display_data"
    }
   ],
   "source": [
    "# Plot the training and validation loss\n",
    "plt.plot(history.history['loss'], label='Training Loss')\n",
    "plt.plot(history.history['val_loss'], label='Validation Loss')\n",
    "plt.title('Training and Validation Loss')\n",
    "plt.xlabel('Epochs')\n",
    "plt.ylabel('Loss')\n",
    "plt.legend()\n",
    "plt.show()"
   ]
  },
  {
   "cell_type": "code",
   "execution_count": 131,
   "id": "bff31dc9",
   "metadata": {},
   "outputs": [
    {
     "name": "stdout",
     "output_type": "stream",
     "text": [
      "\u001b[1m125/125\u001b[0m \u001b[32m━━━━━━━━━━━━━━━━━━━━\u001b[0m\u001b[37m\u001b[0m \u001b[1m0s\u001b[0m 697us/step\n"
     ]
    },
    {
     "data": {
      "text/plain": [
       "(3978,)"
      ]
     },
     "execution_count": 131,
     "metadata": {},
     "output_type": "execute_result"
    }
   ],
   "source": [
    "model.predict(x_tensor_val).flatten().shape"
   ]
  },
  {
   "cell_type": "code",
   "execution_count": 132,
   "id": "4ef25556",
   "metadata": {},
   "outputs": [
    {
     "data": {
      "text/plain": [
       "array([[[-0.73192923],\n",
       "        [-0.72858534],\n",
       "        [-0.71120406],\n",
       "        ...,\n",
       "        [-0.69901278],\n",
       "        [-0.69727117],\n",
       "        [-0.71991211]],\n",
       "\n",
       "       [[-0.72858534],\n",
       "        [-0.71120406],\n",
       "        [-0.72862017],\n",
       "        ...,\n",
       "        [-0.69727117],\n",
       "        [-0.71991211],\n",
       "        [-0.70225218]],\n",
       "\n",
       "       [[-0.71120406],\n",
       "        [-0.72862017],\n",
       "        [-0.73210339],\n",
       "        ...,\n",
       "        [-0.71991211],\n",
       "        [-0.70225218],\n",
       "        [-0.68678667]],\n",
       "\n",
       "       ...,\n",
       "\n",
       "       [[ 1.38743709],\n",
       "        [ 1.3891787 ],\n",
       "        [ 1.39266193],\n",
       "        ...,\n",
       "        [ 1.15057801],\n",
       "        [ 1.18541023],\n",
       "        [ 1.16799412]],\n",
       "\n",
       "       [[ 1.3891787 ],\n",
       "        [ 1.39266193],\n",
       "        [ 1.38388421],\n",
       "        ...,\n",
       "        [ 1.18541023],\n",
       "        [ 1.16799412],\n",
       "        [ 1.1645109 ]],\n",
       "\n",
       "       [[ 1.39266193],\n",
       "        [ 1.38388421],\n",
       "        [ 1.38182911],\n",
       "        ...,\n",
       "        [ 1.16799412],\n",
       "        [ 1.1645109 ],\n",
       "        [ 1.17496056]]])"
      ]
     },
     "execution_count": 132,
     "metadata": {},
     "output_type": "execute_result"
    }
   ],
   "source": [
    "y_tensor_val"
   ]
  },
  {
   "cell_type": "code",
   "execution_count": 127,
   "id": "0188696a",
   "metadata": {},
   "outputs": [
    {
     "name": "stdout",
     "output_type": "stream",
     "text": [
      "\u001b[1m125/125\u001b[0m \u001b[32m━━━━━━━━━━━━━━━━━━━━\u001b[0m\u001b[37m\u001b[0m \u001b[1m0s\u001b[0m 1ms/step\n"
     ]
    },
    {
     "data": {
      "image/png": "[encoded data removed]",
      "text/plain": [
       "<Figure size 640x480 with 1 Axes>"
      ]
     },
     "metadata": {},
     "output_type": "display_data"
    }
   ],
   "source": [
    "y_pred = model.predict(x_tensor_val).flatten()\n",
    "y_pred = sc.inverse_transform(y_pred.reshape(-1, 1))\n",
    "\n",
    "\n",
    "y_eval = sc.inverse_transform(y_tensor_val.flatten().reshape(-1, 1))\n",
    "\n",
    "plt.plot(y_eval, label='True Values')\n",
    "plt.plot(y_pred, label='Predicted Values')\n",
    "plt.title('True vs Predicted Values')\n",
    "plt.xlabel('Time Steps')\n",
    "plt.ylabel('Stock Price')\n",
    "plt.legend()\n",
    "plt.show()"
   ]
  },
  {
   "cell_type": "code",
   "execution_count": 128,
   "id": "9d08afb4",
   "metadata": {},
   "outputs": [
    {
     "ename": "ValueError",
     "evalue": "all the input array dimensions except for the concatenation axis must match exactly, but along dimension 0, the array at index 0 has size 47736 and the array at index 1 has size 3978",
     "output_type": "error",
     "traceback": [
      "\u001b[31m---------------------------------------------------------------------------\u001b[39m",
      "\u001b[31mValueError\u001b[39m                                Traceback (most recent call last)",
      "\u001b[36mCell\u001b[39m\u001b[36m \u001b[39m\u001b[32mIn[128]\u001b[39m\u001b[32m, line 1\u001b[39m\n\u001b[32m----> \u001b[39m\u001b[32m1\u001b[39m predictions = pd.DataFrame(\u001b[43mnp\u001b[49m\u001b[43m.\u001b[49m\u001b[43mhstack\u001b[49m\u001b[43m(\u001b[49m\u001b[43m(\u001b[49m\u001b[43my_eval\u001b[49m\u001b[43m,\u001b[49m\u001b[43m \u001b[49m\u001b[43my_pred\u001b[49m\u001b[43m)\u001b[49m\u001b[43m)\u001b[49m, columns=[\u001b[33m'\u001b[39m\u001b[33mTrue Values\u001b[39m\u001b[33m'\u001b[39m, \u001b[33m'\u001b[39m\u001b[33mPredicted Values\u001b[39m\u001b[33m'\u001b[39m])\n\u001b[32m      2\u001b[39m predictions[\u001b[33m'\u001b[39m\u001b[33mMAPE\u001b[39m\u001b[33m'\u001b[39m] = \u001b[32m100\u001b[39m * \u001b[38;5;28mabs\u001b[39m((predictions[\u001b[33m'\u001b[39m\u001b[33mTrue Values\u001b[39m\u001b[33m'\u001b[39m] - predictions[\u001b[33m'\u001b[39m\u001b[33mPredicted Values\u001b[39m\u001b[33m'\u001b[39m]) / predictions[\u001b[33m'\u001b[39m\u001b[33mTrue Values\u001b[39m\u001b[33m'\u001b[39m])\n\u001b[32m      3\u001b[39m predictions.mean()\n",
      "\u001b[36mFile \u001b[39m\u001b[32mc:\\Users\\Steven\\Desktop\\school github repos\\svo-directed-practicum\\.venv\\Lib\\site-packages\\numpy\\_core\\shape_base.py:364\u001b[39m, in \u001b[36mhstack\u001b[39m\u001b[34m(tup, dtype, casting)\u001b[39m\n\u001b[32m    362\u001b[39m     \u001b[38;5;28;01mreturn\u001b[39;00m _nx.concatenate(arrs, \u001b[32m0\u001b[39m, dtype=dtype, casting=casting)\n\u001b[32m    363\u001b[39m \u001b[38;5;28;01melse\u001b[39;00m:\n\u001b[32m--> \u001b[39m\u001b[32m364\u001b[39m     \u001b[38;5;28;01mreturn\u001b[39;00m \u001b[43m_nx\u001b[49m\u001b[43m.\u001b[49m\u001b[43mconcatenate\u001b[49m\u001b[43m(\u001b[49m\u001b[43marrs\u001b[49m\u001b[43m,\u001b[49m\u001b[43m \u001b[49m\u001b[32;43m1\u001b[39;49m\u001b[43m,\u001b[49m\u001b[43m \u001b[49m\u001b[43mdtype\u001b[49m\u001b[43m=\u001b[49m\u001b[43mdtype\u001b[49m\u001b[43m,\u001b[49m\u001b[43m \u001b[49m\u001b[43mcasting\u001b[49m\u001b[43m=\u001b[49m\u001b[43mcasting\u001b[49m\u001b[43m)\u001b[49m\n",
      "\u001b[31mValueError\u001b[39m: all the input array dimensions except for the concatenation axis must match exactly, but along dimension 0, the array at index 0 has size 47736 and the array at index 1 has size 3978"
     ]
    }
   ],
   "source": [
    "predictions = pd.DataFrame(np.hstack((y_eval, y_pred)), columns=['True Values', 'Predicted Values'])\n",
    "predictions['MAPE'] = 100 * abs((predictions['True Values'] - predictions['Predicted Values']) / predictions['True Values'])\n",
    "predictions.mean()"
   ]
  },
  {
   "cell_type": "code",
   "execution_count": 90,
   "id": "c645f1ad",
   "metadata": {},
   "outputs": [
    {
     "data": {
      "text/html": [
       "<div>\n",
       "<style scoped>\n",
       "    .dataframe tbody tr th:only-of-type {\n",
       "        vertical-align: middle;\n",
       "    }\n",
       "\n",
       "    .dataframe tbody tr th {\n",
       "        vertical-align: top;\n",
       "    }\n",
       "\n",
       "    .dataframe thead th {\n",
       "        text-align: right;\n",
       "    }\n",
       "</style>\n",
       "<table border=\"1\" class=\"dataframe\">\n",
       "  <thead>\n",
       "    <tr style=\"text-align: right;\">\n",
       "      <th></th>\n",
       "      <th>True Values</th>\n",
       "      <th>Predicted Values</th>\n",
       "      <th>MAPE</th>\n",
       "    </tr>\n",
       "  </thead>\n",
       "  <tbody>\n",
       "    <tr>\n",
       "      <th>0</th>\n",
       "      <td>19.677535</td>\n",
       "      <td>18.635502</td>\n",
       "      <td>5.295546</td>\n",
       "    </tr>\n",
       "    <tr>\n",
       "      <th>1</th>\n",
       "      <td>19.623557</td>\n",
       "      <td>18.628147</td>\n",
       "      <td>5.072527</td>\n",
       "    </tr>\n",
       "    <tr>\n",
       "      <th>2</th>\n",
       "      <td>19.549338</td>\n",
       "      <td>18.595335</td>\n",
       "      <td>4.879978</td>\n",
       "    </tr>\n",
       "    <tr>\n",
       "      <th>3</th>\n",
       "      <td>19.530581</td>\n",
       "      <td>18.543562</td>\n",
       "      <td>5.053712</td>\n",
       "    </tr>\n",
       "    <tr>\n",
       "      <th>4</th>\n",
       "      <td>19.583074</td>\n",
       "      <td>18.517843</td>\n",
       "      <td>5.439550</td>\n",
       "    </tr>\n",
       "    <tr>\n",
       "      <th>...</th>\n",
       "      <td>...</td>\n",
       "      <td>...</td>\n",
       "      <td>...</td>\n",
       "    </tr>\n",
       "    <tr>\n",
       "      <th>1940</th>\n",
       "      <td>12.822409</td>\n",
       "      <td>12.962421</td>\n",
       "      <td>1.091934</td>\n",
       "    </tr>\n",
       "    <tr>\n",
       "      <th>1941</th>\n",
       "      <td>12.835904</td>\n",
       "      <td>12.975033</td>\n",
       "      <td>1.083907</td>\n",
       "    </tr>\n",
       "    <tr>\n",
       "      <th>1942</th>\n",
       "      <td>12.876387</td>\n",
       "      <td>12.986683</td>\n",
       "      <td>0.856578</td>\n",
       "    </tr>\n",
       "    <tr>\n",
       "      <th>1943</th>\n",
       "      <td>12.856280</td>\n",
       "      <td>13.029459</td>\n",
       "      <td>1.347038</td>\n",
       "    </tr>\n",
       "    <tr>\n",
       "      <th>1944</th>\n",
       "      <td>12.802168</td>\n",
       "      <td>13.001260</td>\n",
       "      <td>1.555144</td>\n",
       "    </tr>\n",
       "  </tbody>\n",
       "</table>\n",
       "<p>1945 rows × 3 columns</p>\n",
       "</div>"
      ],
      "text/plain": [
       "      True Values  Predicted Values      MAPE\n",
       "0       19.677535         18.635502  5.295546\n",
       "1       19.623557         18.628147  5.072527\n",
       "2       19.549338         18.595335  4.879978\n",
       "3       19.530581         18.543562  5.053712\n",
       "4       19.583074         18.517843  5.439550\n",
       "...           ...               ...       ...\n",
       "1940    12.822409         12.962421  1.091934\n",
       "1941    12.835904         12.975033  1.083907\n",
       "1942    12.876387         12.986683  0.856578\n",
       "1943    12.856280         13.029459  1.347038\n",
       "1944    12.802168         13.001260  1.555144\n",
       "\n",
       "[1945 rows x 3 columns]"
      ]
     },
     "execution_count": 90,
     "metadata": {},
     "output_type": "execute_result"
    }
   ],
   "source": [
    "predictions"
   ]
  },
  {
   "cell_type": "code",
   "execution_count": 71,
   "id": "049acaab",
   "metadata": {},
   "outputs": [
    {
     "name": "stdout",
     "output_type": "stream",
     "text": [
      "\u001b[1m4/4\u001b[0m \u001b[32m━━━━━━━━━━━━━━━━━━━━\u001b[0m\u001b[37m\u001b[0m \u001b[1m0s\u001b[0m 48ms/step\n"
     ]
    },
    {
     "data": {
      "text/plain": [
       "array([[13.398315 , 71.36834  , 54.333954 , ...,  6.145635 , 31.93161  ,\n",
       "        81.79915  ],\n",
       "       [13.290259 , 70.35036  , 54.740807 , ...,  6.1424336, 32.09865  ,\n",
       "        81.15575  ],\n",
       "       [13.225269 , 68.630714 , 55.365253 , ...,  6.1714272, 32.071114 ,\n",
       "        80.89167  ],\n",
       "       ...,\n",
       "       [12.657994 , 72.1708   , 54.409004 , ...,  5.64687  , 31.43997  ,\n",
       "        93.8736   ],\n",
       "       [12.604883 , 71.907265 , 54.49948  , ...,  5.6565123, 31.443684 ,\n",
       "        94.13033  ],\n",
       "       [12.623931 , 71.81959  , 54.600266 , ...,  5.6525955, 31.446852 ,\n",
       "        94.227844 ]], dtype=float32)"
      ]
     },
     "execution_count": 71,
     "metadata": {},
     "output_type": "execute_result"
    }
   ],
   "source": [
    "# Predicting on the test set and plotting the results\n",
    "predictions = model.predict(dataset_test)\n",
    "predictions = predictions.reshape(-1, len(y_cols))\n",
    "# Inverse transform the predictions and actual values\n",
    "predictions = sc.inverse_transform(predictions)\n",
    "predictions"
   ]
  }
 ],
 "metadata": {
  "kernelspec": {
   "display_name": "svo-directed-practicum (3.12.9)",
   "language": "python",
   "name": "python3"
  },
  "language_info": {
   "codemirror_mode": {
    "name": "ipython",
    "version": 3
   },
   "file_extension": ".py",
   "mimetype": "text/x-python",
   "name": "python",
   "nbconvert_exporter": "python",
   "pygments_lexer": "ipython3",
   "version": "3.12.9"
  }
 },
 "nbformat": 4,
 "nbformat_minor": 5
}
