{
 "cells": [
  {
   "cell_type": "code",
   "execution_count": null,
   "id": "a5319415",
   "metadata": {},
   "outputs": [],
   "source": [
    "import pandas as pd\n",
    "import os"
   ]
  },
  {
   "cell_type": "code",
   "execution_count": null,
   "id": "67264bb5",
   "metadata": {},
   "outputs": [],
   "source": [
    "path_to_data = r\"../data/raw/ontime\""
   ]
  },
  {
   "cell_type": "code",
   "execution_count": null,
   "id": "661c991c",
   "metadata": {},
   "outputs": [],
   "source": [
    "pd.read_csv(f'{path_to_data}/_2018_1/_2018_1.csv')"
   ]
  }
 ],
 "metadata": {
  "kernelspec": {
   "display_name": "svo-directed-practicum (3.12.9)",
   "language": "python",
   "name": "python3"
  },
  "language_info": {
   "name": "python",
   "version": "3.12.9"
  }
 },
 "nbformat": 4,
 "nbformat_minor": 5
}
