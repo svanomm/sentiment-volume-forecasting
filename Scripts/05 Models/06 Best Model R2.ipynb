{
 "cells": [
  {
   "cell_type": "code",
   "execution_count": null,
   "id": "54af42f1",
   "metadata": {},
   "outputs": [],
   "source": [
    "import pandas as pd\n",
    "import matplotlib.pyplot as plt\n",
    "import seaborn as sns\n",
    "import pickle\n",
    "import numpy as np\n",
    "from sklearn.preprocessing import MinMaxScaler\n",
    "from sklearn.metrics import r2_score as r2 \n",
    "import shap, datetime, warnings\n",
    "from great_tables import GT, md, html, style, loc\n",
    "warnings.filterwarnings('ignore')"
   ]
  },
  {
   "cell_type": "code",
   "execution_count": null,
   "id": "a3475feb",
   "metadata": {},
   "outputs": [],
   "source": [
    "# Open the pickle file\n",
    "df = pickle.load(open('../../data/processed/merged_data_finance.pkl', 'rb'))"
   ]
  },
  {
   "cell_type": "code",
   "execution_count": null,
   "id": "352c0385",
   "metadata": {},
   "outputs": [],
   "source": [
    "sentiment_cols = [i for i in df.columns if any(x in i for x in ['Article Count', 'Tone', 'llm'])] + [i for i in df.columns if i.startswith('c') or i.startswith('v')]\n",
    "time_cols = ['hour_of_day_10','hour_of_day_11','hour_of_day_12','hour_of_day_13','hour_of_day_14','hour_of_day_15','hour_of_day_9','is_close','is_open','month_of_year_1','month_of_year_10','month_of_year_11','month_of_year_12','month_of_year_2','month_of_year_3','month_of_year_4','month_of_year_5','month_of_year_6','month_of_year_7','month_of_year_8','month_of_year_9','day_of_week_0','day_of_week_1','day_of_week_2','day_of_week_3','day_of_week_4']\n",
    "self_finance_vars = [i for i in df.columns if 'lag' in i and i not in sentiment_cols and all(x not in i for x in ['BNO','JETS','IYT','ITA'])]\n",
    "oil_vars          = [i for i in df.columns if 'lag' in i and 'BNO' in i]\n",
    "etf_finance_vars  = [i for i in df.columns if 'lag' in i and i not in sentiment_cols and any(x in i for x in ['JETS','IYT','ITA'])]\n",
    "finance_vars = self_finance_vars + oil_vars + etf_finance_vars"
   ]
  },
  {
   "cell_type": "code",
   "execution_count": null,
   "id": "a5ab22d8",
   "metadata": {},
   "outputs": [],
   "source": [
    "# Define the different sets of features to try\n",
    "feature_sets = {\n",
    "    'all': sentiment_cols + finance_vars + time_cols \n",
    "}"
   ]
  },
  {
   "cell_type": "code",
   "execution_count": null,
   "id": "a78f90e9",
   "metadata": {},
   "outputs": [],
   "source": [
    "y_cols = ['Volume']\n",
    "y = df[y_cols]"
   ]
  },
  {
   "cell_type": "code",
   "execution_count": null,
   "id": "147c8448",
   "metadata": {},
   "outputs": [],
   "source": [
    "# Train/test splitting\n",
    "split_val  = round(0.8 * len(y))\n",
    "split_test = round(0.9 * len(y))\n",
    "\n",
    "y_train = y[:split_val]\n",
    "y_val   = y[split_val:split_test]\n",
    "y_test  = y[split_test:]"
   ]
  },
  {
   "cell_type": "code",
   "execution_count": null,
   "id": "46ceee0f",
   "metadata": {},
   "outputs": [],
   "source": [
    "predictions = df[['date','ticker','Volume']+time_cols]\n",
    "predictions = predictions.iloc[split_val:, :]\n",
    "predictions.rename(columns={'Volume': 'Actual'}, inplace=True)"
   ]
  },
  {
   "cell_type": "code",
   "execution_count": null,
   "id": "f0c64b72",
   "metadata": {},
   "outputs": [],
   "source": [
    "# Add the tuned and retrained models as well\n",
    "model = pickle.load(open(f'../../output/models/LightGBM/lightgbm_all_tuned_retrained.pkl', 'rb'))\n",
    "\n",
    "x_cols = feature_sets['all']\n",
    "x = df[x_cols]\n",
    "x_train = x[:split_val]\n",
    "x_val   = x[split_val:split_test]\n",
    "x_test  = x[split_test:]\n",
    "\n",
    "# Normalize the features to [0,1]\n",
    "sc2 = MinMaxScaler(feature_range=(0, 1))\n",
    "\n",
    "x_train = sc2.fit_transform(x_train)\n",
    "x_val   = sc2.transform(x_val)\n",
    "x_test  = sc2.transform(x_test)\n",
    "\n",
    "p1 = model.predict(x_val)\n",
    "p2 = model.predict(x_test)\n",
    "p = np.concatenate((p1, p2), axis=0)\n",
    "\n",
    "predictions[f'Predicted (LightGBM) (all_tuned_retrained)'] = p"
   ]
  }
 ],
 "metadata": {
  "kernelspec": {
   "display_name": "Python 3",
   "language": "python",
   "name": "python3"
  },
  "language_info": {
   "name": "python",
   "version": "3.12.10"
  }
 },
 "nbformat": 4,
 "nbformat_minor": 5
}
