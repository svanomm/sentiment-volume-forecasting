{
 "cells": [
  {
   "cell_type": "code",
   "execution_count": null,
   "id": "26aa2b37",
   "metadata": {},
   "outputs": [],
   "source": [
    "import numpy as np\n",
    "import pandas as pd\n",
    "import pickle\n",
    "from sklearn.preprocessing import MinMaxScaler\n",
    "from sklearn.linear_model import LinearRegression, Lasso\n",
    "from sklearn.metrics import r2_score as r2\n",
    "import warnings\n",
    "warnings.filterwarnings(\"ignore\")"
   ]
  },
  {
   "cell_type": "code",
   "execution_count": 2,
   "id": "67991b7c",
   "metadata": {},
   "outputs": [],
   "source": [
    "# Open the pickle file\n",
    "df = pickle.load(open('../../data/processed/merged_data_finance.pkl', 'rb'))"
   ]
  },
  {
   "cell_type": "code",
   "execution_count": null,
   "id": "abfe4f48",
   "metadata": {},
   "outputs": [],
   "source": [
    "sentiment_cols = [i for i in df.columns if any(x in i for x in ['Article Count', 'Tone', 'llm'])] + [i for i in df.columns if i.startswith('c') or i.startswith('v')]\n",
    "time_cols = ['hour_of_day_10','hour_of_day_11','hour_of_day_12','hour_of_day_13','hour_of_day_14','hour_of_day_15','hour_of_day_9','is_close','is_open','month_of_year_1','month_of_year_10','month_of_year_11','month_of_year_12','month_of_year_2','month_of_year_3','month_of_year_4','month_of_year_5','month_of_year_6','month_of_year_7','month_of_year_8','month_of_year_9','day_of_week_0','day_of_week_1','day_of_week_2','day_of_week_3','day_of_week_4']\n",
    "self_finance_vars = [i for i in df.columns if 'lag' in i and i not in sentiment_cols and all(x not in i for x in ['BNO','JETS','IYT','ITA'])]\n",
    "oil_vars          = [i for i in df.columns if 'lag' in i and 'BNO' in i]\n",
    "etf_finance_vars  = [i for i in df.columns if 'lag' in i and i not in sentiment_cols and any(x in i for x in ['JETS','IYT','ITA'])]\n",
    "finance_vars = self_finance_vars + oil_vars + etf_finance_vars"
   ]
  },
  {
   "cell_type": "code",
   "execution_count": 6,
   "id": "0d29bc61",
   "metadata": {},
   "outputs": [],
   "source": [
    "# Define the different sets of features to try\n",
    "feature_sets = {\n",
    "    'time_only': time_cols,\n",
    "    'sentiment_only': sentiment_cols,\n",
    "    'self_finance_only': self_finance_vars,\n",
    "    'finance_only': finance_vars,\n",
    "    'finance_time': finance_vars + time_cols,\n",
    "    'all': sentiment_cols + finance_vars + time_cols \n",
    "}"
   ]
  },
  {
   "cell_type": "code",
   "execution_count": 7,
   "id": "e1ef3cc7",
   "metadata": {},
   "outputs": [],
   "source": [
    "y_cols = ['Volume']\n",
    "y = df[y_cols]"
   ]
  },
  {
   "cell_type": "code",
   "execution_count": 8,
   "id": "4f4701b2",
   "metadata": {},
   "outputs": [],
   "source": [
    "# Train/test splitting\n",
    "split_val  = round(0.8 * len(y))\n",
    "split_test = round(0.9 * len(y))\n",
    "\n",
    "y_train = y[:split_val]\n",
    "y_val   = y[split_val:split_test]\n",
    "y_test  = y[split_test:]"
   ]
  },
  {
   "cell_type": "code",
   "execution_count": 9,
   "id": "74db94ff",
   "metadata": {},
   "outputs": [
    {
     "name": "stdout",
     "output_type": "stream",
     "text": [
      "Processing feature set: time_only\n",
      "OLS: 0.11967365776891914, 0.08185475787619945\n",
      "LASSO: 0.11967365776891914, 0.08185475787619945\n",
      "Processing feature set: sentiment_only\n",
      "OLS: -0.04133655403918257, 0.03247526155527736\n",
      "LASSO: -0.04133655403918257, 0.03247526155527736\n",
      "Processing feature set: self_finance_only\n",
      "OLS: 0.7122210391585042, 0.5872579468370565\n",
      "LASSO: 0.7122210391585042, 0.5872579468370565\n",
      "Processing feature set: finance_only\n",
      "OLS: 0.7142655327917684, 0.5910419981329451\n",
      "LASSO: 0.7142655327917684, 0.5910419981329451\n",
      "Processing feature set: finance_time\n",
      "OLS: 0.7219595449984467, 0.5992451301424944\n",
      "LASSO: 0.7219595449984467, 0.5992451301424944\n",
      "Processing feature set: all\n",
      "OLS: 0.7209179190336554, 0.6055574313519705\n",
      "LASSO: 0.7209179190336554, 0.6055574313519705\n"
     ]
    }
   ],
   "source": [
    "for feature_set in feature_sets:\n",
    "    print(f'Processing feature set: {feature_set}')\n",
    "\n",
    "    x_cols = feature_sets[feature_set]\n",
    "    x = df[x_cols]\n",
    "    x_train = x[:split_val]\n",
    "    x_val   = x[split_val:split_test]\n",
    "    x_test  = x[split_test:]\n",
    "\n",
    "    # Normalize the features to [0,1]\n",
    "    sc2 = MinMaxScaler(feature_range=(0, 1))\n",
    "\n",
    "    x_train = sc2.fit_transform(x_train)\n",
    "    x_val   = sc2.transform(x_val)\n",
    "    x_test  = sc2.transform(x_test)\n",
    "\n",
    "    ols = LinearRegression()\n",
    "    ols.fit(x_train, y_train)\n",
    "    pickle.dump(ols, open(f'../../output/models/ols/ols_{feature_set}.pkl', 'wb'))\n",
    "    print(f\"OLS: {ols.score(x_val, y_val)}, {ols.score(x_test, y_test)}\")\n",
    "\n",
    "    lasso = Lasso(\n",
    "        alpha=1,\n",
    "        selection='random',\n",
    "    )\n",
    "\n",
    "    lasso.fit(x_train, y_train)\n",
    "    pickle.dump(lasso, open(f'../../output/models/lasso/lasso_{feature_set}.pkl', 'wb'))\n",
    "    print(f\"LASSO: {ols.score(x_val, y_val)}, {ols.score(x_test, y_test)}\")"
   ]
  }
 ],
 "metadata": {
  "kernelspec": {
   "display_name": ".venv",
   "language": "python",
   "name": "python3"
  },
  "language_info": {
   "codemirror_mode": {
    "name": "ipython",
    "version": 3
   },
   "file_extension": ".py",
   "mimetype": "text/x-python",
   "name": "python",
   "nbconvert_exporter": "python",
   "pygments_lexer": "ipython3",
   "version": "3.12.10"
  }
 },
 "nbformat": 4,
 "nbformat_minor": 5
}
