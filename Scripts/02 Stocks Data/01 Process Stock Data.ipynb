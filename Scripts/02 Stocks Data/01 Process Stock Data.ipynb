{
 "cells": [
  {
   "cell_type": "code",
   "execution_count": 98,
   "id": "3f7d99e5",
   "metadata": {},
   "outputs": [],
   "source": [
    "import pandas as pd\n",
    "import numpy as np\n",
    "import os, pickle\n",
    "import warnings\n",
    "import datetime\n",
    "warnings.filterwarnings('ignore')"
   ]
  },
  {
   "cell_type": "code",
   "execution_count": 99,
   "id": "3f3f351b",
   "metadata": {},
   "outputs": [],
   "source": [
    "path_to_data = r\"../../data/raw/stock prices\""
   ]
  },
  {
   "cell_type": "code",
   "execution_count": 100,
   "id": "a13e4a98",
   "metadata": {},
   "outputs": [],
   "source": [
    "# Get the list of all csv files in path_to_data and all subfolders\n",
    "csv_files = []\n",
    "for root, dirs, files in os.walk(path_to_data):\n",
    "    for f in files:\n",
    "        if f.endswith('.csv'):\n",
    "            csv_files.append(os.path.join(root, f))"
   ]
  },
  {
   "cell_type": "code",
   "execution_count": 101,
   "id": "2cbb6fda",
   "metadata": {},
   "outputs": [
    {
     "data": {
      "application/vnd.microsoft.datawrangler.viewer.v0+json": {
       "columns": [
        {
         "name": "ticker",
         "rawType": "object",
         "type": "string"
        },
        {
         "name": "count",
         "rawType": "int64",
         "type": "integer"
        }
       ],
       "ref": "68d5380d-357a-405e-8b96-889adc7c42c6",
       "rows": [
        [
         "ALGT",
         "80000"
        ],
        [
         "ALK",
         "80000"
        ],
        [
         "DAL",
         "80000"
        ],
        [
         "UAL",
         "80000"
        ],
        [
         "ITA",
         "80000"
        ],
        [
         "LUV",
         "80000"
        ],
        [
         "JBLU",
         "80000"
        ],
        [
         "IYT",
         "79869"
        ],
        [
         "AAL",
         "74806"
        ],
        [
         "JETS",
         "62745"
        ],
        [
         "BNO",
         "60000"
        ]
       ],
       "shape": {
        "columns": 1,
        "rows": 11
       }
      },
      "text/plain": [
       "ticker\n",
       "ALGT    80000\n",
       "ALK     80000\n",
       "DAL     80000\n",
       "UAL     80000\n",
       "ITA     80000\n",
       "LUV     80000\n",
       "JBLU    80000\n",
       "IYT     79869\n",
       "AAL     74806\n",
       "JETS    62745\n",
       "BNO     60000\n",
       "Name: count, dtype: int64"
      ]
     },
     "execution_count": 101,
     "metadata": {},
     "output_type": "execute_result"
    }
   ],
   "source": [
    "# Loop through the files, limiting columns and appending airline tickers to a df\n",
    "for file in csv_files:\n",
    "    ticker = file.split('_')[0].split('\\\\')[-1].upper()  # Extract ticker from filename\n",
    "\n",
    "    if file == csv_files[0]:\n",
    "        df_main = pd.read_csv(file)\n",
    "        df_main['ticker'] = ticker\n",
    "    else:\n",
    "        df_temp = pd.read_csv(file)\n",
    "        df_temp['ticker'] = ticker\n",
    "        df_main = pd.concat([df_main, df_temp], ignore_index=True)\n",
    "df_main['ticker'].value_counts()"
   ]
  },
  {
   "cell_type": "code",
   "execution_count": 102,
   "id": "cfd1c6bc",
   "metadata": {},
   "outputs": [],
   "source": [
    "# Drop duplicates rows\n",
    "df_main = df_main.drop_duplicates()\n",
    "df_main = df_main.dropna()"
   ]
  },
  {
   "cell_type": "code",
   "execution_count": 103,
   "id": "dcd1a107",
   "metadata": {},
   "outputs": [
    {
     "data": {
      "application/vnd.microsoft.datawrangler.viewer.v0+json": {
       "columns": [
        {
         "name": "index",
         "rawType": "int64",
         "type": "integer"
        },
        {
         "name": "Time",
         "rawType": "datetime64[ns]",
         "type": "datetime"
        },
        {
         "name": "Open",
         "rawType": "float64",
         "type": "float"
        },
        {
         "name": "High",
         "rawType": "float64",
         "type": "float"
        },
        {
         "name": "Low",
         "rawType": "float64",
         "type": "float"
        },
        {
         "name": "Last",
         "rawType": "float64",
         "type": "float"
        },
        {
         "name": "Change",
         "rawType": "float64",
         "type": "float"
        },
        {
         "name": "%Chg",
         "rawType": "float64",
         "type": "float"
        },
        {
         "name": "Volume",
         "rawType": "float64",
         "type": "float"
        },
        {
         "name": "ticker",
         "rawType": "object",
         "type": "string"
        }
       ],
       "ref": "b34e28c2-3bc8-4bcf-bd41-46e8e4425cb7",
       "rows": [
        [
         "0",
         "2022-05-03 11:15:00",
         "18.69",
         "18.77",
         "18.665",
         "18.745",
         "0.055",
         "0.29",
         "844892.0",
         "AAL"
        ],
        [
         "1",
         "2022-05-03 11:30:00",
         "18.745",
         "18.855",
         "18.735",
         "18.835",
         "0.09",
         "0.48",
         "790483.0",
         "AAL"
        ],
        [
         "2",
         "2022-05-03 11:45:00",
         "18.84",
         "18.85",
         "18.74",
         "18.7761",
         "-0.0589",
         "-0.31",
         "600037.0",
         "AAL"
        ],
        [
         "3",
         "2022-05-03 12:00:00",
         "18.7703",
         "18.81",
         "18.654",
         "18.7272",
         "-0.0489",
         "-0.26",
         "738723.0",
         "AAL"
        ],
        [
         "4",
         "2022-05-03 12:15:00",
         "18.73",
         "18.82",
         "18.73",
         "18.74",
         "0.0128",
         "0.07",
         "582906.0",
         "AAL"
        ],
        [
         "5",
         "2022-05-03 12:30:00",
         "18.7399",
         "18.82",
         "18.715",
         "18.8147",
         "0.0747",
         "0.4",
         "440028.0",
         "AAL"
        ],
        [
         "6",
         "2022-05-03 12:45:00",
         "18.81",
         "18.86",
         "18.785",
         "18.8377",
         "0.023",
         "0.12",
         "631764.0",
         "AAL"
        ],
        [
         "7",
         "2022-05-03 13:00:00",
         "18.84",
         "18.965",
         "18.835",
         "18.96",
         "0.1223",
         "0.65",
         "552320.0",
         "AAL"
        ],
        [
         "8",
         "2022-05-03 13:15:00",
         "18.96",
         "19.03",
         "18.96",
         "18.99",
         "0.03",
         "0.16",
         "779910.0",
         "AAL"
        ],
        [
         "9",
         "2022-05-03 13:30:00",
         "19.0",
         "19.33",
         "19.0",
         "19.32",
         "0.33",
         "1.74",
         "3662956.0",
         "AAL"
        ],
        [
         "10",
         "2022-05-03 13:45:00",
         "19.325",
         "19.3442",
         "19.21",
         "19.2359",
         "-0.0841",
         "-0.44",
         "974611.0",
         "AAL"
        ],
        [
         "11",
         "2022-05-03 14:00:00",
         "19.235",
         "19.24",
         "19.15",
         "19.1601",
         "-0.0758",
         "-0.39",
         "858390.0",
         "AAL"
        ],
        [
         "12",
         "2022-05-03 14:15:00",
         "19.1685",
         "19.17",
         "19.09",
         "19.095",
         "-0.0651",
         "-0.34",
         "732632.0",
         "AAL"
        ],
        [
         "13",
         "2022-05-03 14:30:00",
         "19.0901",
         "19.2",
         "19.02",
         "19.145",
         "0.05",
         "0.26",
         "870282.0",
         "AAL"
        ],
        [
         "14",
         "2022-05-03 14:45:00",
         "19.1462",
         "19.3",
         "19.08",
         "19.2901",
         "0.1451",
         "0.76",
         "803381.0",
         "AAL"
        ],
        [
         "15",
         "2022-05-03 15:00:00",
         "19.3",
         "19.3",
         "19.2",
         "19.24",
         "-0.0501",
         "-0.26",
         "670461.0",
         "AAL"
        ],
        [
         "16",
         "2022-05-03 15:15:00",
         "19.2481",
         "19.25",
         "19.12",
         "19.195",
         "-0.045",
         "-0.23",
         "785020.0",
         "AAL"
        ],
        [
         "17",
         "2022-05-03 15:30:00",
         "19.19",
         "19.22",
         "19.1",
         "19.13",
         "-0.065",
         "-0.34",
         "961736.0",
         "AAL"
        ],
        [
         "18",
         "2022-05-03 15:45:00",
         "19.13",
         "19.19",
         "19.105",
         "19.13",
         "0.0",
         "0.0",
         "2435854.0",
         "AAL"
        ],
        [
         "19",
         "2022-05-04 09:30:00",
         "18.83",
         "19.25",
         "18.75",
         "19.23",
         "0.1",
         "0.52",
         "2311336.0",
         "AAL"
        ],
        [
         "20",
         "2022-05-04 09:45:00",
         "19.22",
         "19.38",
         "19.12",
         "19.1297",
         "-0.1003",
         "-0.52",
         "1416664.0",
         "AAL"
        ],
        [
         "21",
         "2022-05-04 10:00:00",
         "19.125",
         "19.16",
         "18.9985",
         "19.0",
         "-0.1297",
         "-0.68",
         "1141284.0",
         "AAL"
        ],
        [
         "22",
         "2022-05-04 10:15:00",
         "18.99",
         "19.07",
         "18.93",
         "19.015",
         "0.015",
         "0.08",
         "936567.0",
         "AAL"
        ],
        [
         "23",
         "2022-05-04 10:30:00",
         "19.016",
         "19.055",
         "18.885",
         "19.04",
         "0.025",
         "0.13",
         "1201507.0",
         "AAL"
        ],
        [
         "24",
         "2022-05-04 10:45:00",
         "19.05",
         "19.065",
         "18.96",
         "19.005",
         "-0.035",
         "-0.18",
         "489873.0",
         "AAL"
        ],
        [
         "25",
         "2022-05-04 11:00:00",
         "19.005",
         "19.085",
         "18.94",
         "18.95",
         "-0.055",
         "-0.29",
         "687295.0",
         "AAL"
        ],
        [
         "26",
         "2022-05-04 11:15:00",
         "18.9599",
         "19.01",
         "18.895",
         "18.92",
         "-0.03",
         "-0.16",
         "502109.0",
         "AAL"
        ],
        [
         "27",
         "2022-05-04 11:30:00",
         "18.91",
         "18.915",
         "18.8101",
         "18.825",
         "-0.095",
         "-0.5",
         "794602.0",
         "AAL"
        ],
        [
         "28",
         "2022-05-04 11:45:00",
         "18.82",
         "18.93",
         "18.82",
         "18.85",
         "0.025",
         "0.13",
         "684114.0",
         "AAL"
        ],
        [
         "29",
         "2022-05-04 12:00:00",
         "18.855",
         "18.8699",
         "18.78",
         "18.8",
         "-0.05",
         "-0.27",
         "626172.0",
         "AAL"
        ],
        [
         "30",
         "2022-05-04 12:15:00",
         "18.81",
         "18.9",
         "18.77",
         "18.895",
         "0.095",
         "0.51",
         "738457.0",
         "AAL"
        ],
        [
         "31",
         "2022-05-04 12:30:00",
         "18.9",
         "18.925",
         "18.84",
         "18.8871",
         "-0.0079",
         "-0.04",
         "528671.0",
         "AAL"
        ],
        [
         "32",
         "2022-05-04 12:45:00",
         "18.8869",
         "18.9062",
         "18.81",
         "18.9",
         "0.0129",
         "0.07",
         "613009.0",
         "AAL"
        ],
        [
         "33",
         "2022-05-04 13:00:00",
         "18.9037",
         "18.95",
         "18.8",
         "18.82",
         "-0.08",
         "-0.42",
         "493821.0",
         "AAL"
        ],
        [
         "34",
         "2022-05-04 13:15:00",
         "18.825",
         "18.87",
         "18.805",
         "18.837",
         "0.017",
         "0.09",
         "474569.0",
         "AAL"
        ],
        [
         "35",
         "2022-05-04 13:30:00",
         "18.84",
         "18.87",
         "18.81",
         "18.85",
         "0.013",
         "0.07",
         "428068.0",
         "AAL"
        ],
        [
         "36",
         "2022-05-04 13:45:00",
         "18.86",
         "18.9832",
         "18.845",
         "18.9511",
         "0.1011",
         "0.54",
         "524774.0",
         "AAL"
        ],
        [
         "37",
         "2022-05-04 14:00:00",
         "18.9514",
         "19.1",
         "18.81",
         "18.925",
         "-0.0261",
         "-0.14",
         "1453378.0",
         "AAL"
        ],
        [
         "38",
         "2022-05-04 14:15:00",
         "18.92",
         "19.08",
         "18.81",
         "19.03",
         "0.105",
         "0.55",
         "720067.0",
         "AAL"
        ],
        [
         "39",
         "2022-05-04 14:30:00",
         "19.035",
         "19.14",
         "18.75",
         "19.05",
         "0.02",
         "0.11",
         "1921097.0",
         "AAL"
        ],
        [
         "40",
         "2022-05-04 14:45:00",
         "19.045",
         "19.2793",
         "19.045",
         "19.235",
         "0.185",
         "0.97",
         "1724032.0",
         "AAL"
        ],
        [
         "41",
         "2022-05-04 15:00:00",
         "19.24",
         "19.34",
         "19.21",
         "19.34",
         "0.105",
         "0.55",
         "1073988.0",
         "AAL"
        ],
        [
         "42",
         "2022-05-04 15:15:00",
         "19.34",
         "19.49",
         "19.28",
         "19.475",
         "0.135",
         "0.7",
         "1399926.0",
         "AAL"
        ],
        [
         "43",
         "2022-05-04 15:30:00",
         "19.48",
         "19.55",
         "19.45",
         "19.535",
         "0.06",
         "0.31",
         "2093240.0",
         "AAL"
        ],
        [
         "44",
         "2022-05-04 15:45:00",
         "19.535",
         "19.64",
         "19.52",
         "19.62",
         "0.085",
         "0.44",
         "4054909.0",
         "AAL"
        ],
        [
         "45",
         "2022-05-05 09:30:00",
         "19.25",
         "19.515",
         "19.2",
         "19.35",
         "-0.27",
         "-1.38",
         "3473869.0",
         "AAL"
        ],
        [
         "46",
         "2022-05-05 09:45:00",
         "19.35",
         "19.38",
         "19.1829",
         "19.22",
         "-0.13",
         "-0.67",
         "1107422.0",
         "AAL"
        ],
        [
         "47",
         "2022-05-05 10:00:00",
         "19.2207",
         "19.2298",
         "19.09",
         "19.16",
         "-0.06",
         "-0.31",
         "881282.0",
         "AAL"
        ],
        [
         "48",
         "2022-05-05 10:15:00",
         "19.17",
         "19.2385",
         "19.035",
         "19.07",
         "-0.09",
         "-0.47",
         "1280844.0",
         "AAL"
        ],
        [
         "49",
         "2022-05-05 10:30:00",
         "19.07",
         "19.12",
         "18.9493",
         "19.1",
         "0.03",
         "0.16",
         "1389956.0",
         "AAL"
        ]
       ],
       "shape": {
        "columns": 9,
        "rows": 829078
       }
      },
      "text/html": [
       "<div>\n",
       "<style scoped>\n",
       "    .dataframe tbody tr th:only-of-type {\n",
       "        vertical-align: middle;\n",
       "    }\n",
       "\n",
       "    .dataframe tbody tr th {\n",
       "        vertical-align: top;\n",
       "    }\n",
       "\n",
       "    .dataframe thead th {\n",
       "        text-align: right;\n",
       "    }\n",
       "</style>\n",
       "<table border=\"1\" class=\"dataframe\">\n",
       "  <thead>\n",
       "    <tr style=\"text-align: right;\">\n",
       "      <th></th>\n",
       "      <th>Time</th>\n",
       "      <th>Open</th>\n",
       "      <th>High</th>\n",
       "      <th>Low</th>\n",
       "      <th>Last</th>\n",
       "      <th>Change</th>\n",
       "      <th>%Chg</th>\n",
       "      <th>Volume</th>\n",
       "      <th>ticker</th>\n",
       "    </tr>\n",
       "  </thead>\n",
       "  <tbody>\n",
       "    <tr>\n",
       "      <th>0</th>\n",
       "      <td>2022-05-03 11:15:00</td>\n",
       "      <td>18.6900</td>\n",
       "      <td>18.770</td>\n",
       "      <td>18.6650</td>\n",
       "      <td>18.7450</td>\n",
       "      <td>0.0550</td>\n",
       "      <td>0.29</td>\n",
       "      <td>844892.0</td>\n",
       "      <td>AAL</td>\n",
       "    </tr>\n",
       "    <tr>\n",
       "      <th>1</th>\n",
       "      <td>2022-05-03 11:30:00</td>\n",
       "      <td>18.7450</td>\n",
       "      <td>18.855</td>\n",
       "      <td>18.7350</td>\n",
       "      <td>18.8350</td>\n",
       "      <td>0.0900</td>\n",
       "      <td>0.48</td>\n",
       "      <td>790483.0</td>\n",
       "      <td>AAL</td>\n",
       "    </tr>\n",
       "    <tr>\n",
       "      <th>2</th>\n",
       "      <td>2022-05-03 11:45:00</td>\n",
       "      <td>18.8400</td>\n",
       "      <td>18.850</td>\n",
       "      <td>18.7400</td>\n",
       "      <td>18.7761</td>\n",
       "      <td>-0.0589</td>\n",
       "      <td>-0.31</td>\n",
       "      <td>600037.0</td>\n",
       "      <td>AAL</td>\n",
       "    </tr>\n",
       "    <tr>\n",
       "      <th>3</th>\n",
       "      <td>2022-05-03 12:00:00</td>\n",
       "      <td>18.7703</td>\n",
       "      <td>18.810</td>\n",
       "      <td>18.6540</td>\n",
       "      <td>18.7272</td>\n",
       "      <td>-0.0489</td>\n",
       "      <td>-0.26</td>\n",
       "      <td>738723.0</td>\n",
       "      <td>AAL</td>\n",
       "    </tr>\n",
       "    <tr>\n",
       "      <th>4</th>\n",
       "      <td>2022-05-03 12:15:00</td>\n",
       "      <td>18.7300</td>\n",
       "      <td>18.820</td>\n",
       "      <td>18.7300</td>\n",
       "      <td>18.7400</td>\n",
       "      <td>0.0128</td>\n",
       "      <td>0.07</td>\n",
       "      <td>582906.0</td>\n",
       "      <td>AAL</td>\n",
       "    </tr>\n",
       "    <tr>\n",
       "      <th>...</th>\n",
       "      <td>...</td>\n",
       "      <td>...</td>\n",
       "      <td>...</td>\n",
       "      <td>...</td>\n",
       "      <td>...</td>\n",
       "      <td>...</td>\n",
       "      <td>...</td>\n",
       "      <td>...</td>\n",
       "      <td>...</td>\n",
       "    </tr>\n",
       "    <tr>\n",
       "      <th>837395</th>\n",
       "      <td>2022-05-03 10:00:00</td>\n",
       "      <td>50.5000</td>\n",
       "      <td>50.750</td>\n",
       "      <td>49.8250</td>\n",
       "      <td>49.9700</td>\n",
       "      <td>-0.5300</td>\n",
       "      <td>-1.05</td>\n",
       "      <td>472374.0</td>\n",
       "      <td>UAL</td>\n",
       "    </tr>\n",
       "    <tr>\n",
       "      <th>837396</th>\n",
       "      <td>2022-05-03 10:15:00</td>\n",
       "      <td>49.9700</td>\n",
       "      <td>50.270</td>\n",
       "      <td>49.6500</td>\n",
       "      <td>50.2400</td>\n",
       "      <td>0.2700</td>\n",
       "      <td>0.54</td>\n",
       "      <td>388933.0</td>\n",
       "      <td>UAL</td>\n",
       "    </tr>\n",
       "    <tr>\n",
       "      <th>837397</th>\n",
       "      <td>2022-05-03 10:30:00</td>\n",
       "      <td>50.2400</td>\n",
       "      <td>50.550</td>\n",
       "      <td>50.0800</td>\n",
       "      <td>50.1600</td>\n",
       "      <td>-0.0800</td>\n",
       "      <td>-0.16</td>\n",
       "      <td>346036.0</td>\n",
       "      <td>UAL</td>\n",
       "    </tr>\n",
       "    <tr>\n",
       "      <th>837398</th>\n",
       "      <td>2022-05-03 10:45:00</td>\n",
       "      <td>50.1700</td>\n",
       "      <td>50.520</td>\n",
       "      <td>50.0301</td>\n",
       "      <td>50.4450</td>\n",
       "      <td>0.2850</td>\n",
       "      <td>0.57</td>\n",
       "      <td>319102.0</td>\n",
       "      <td>UAL</td>\n",
       "    </tr>\n",
       "    <tr>\n",
       "      <th>837399</th>\n",
       "      <td>2022-05-03 11:00:00</td>\n",
       "      <td>50.4462</td>\n",
       "      <td>50.850</td>\n",
       "      <td>50.3300</td>\n",
       "      <td>50.8400</td>\n",
       "      <td>0.3950</td>\n",
       "      <td>0.78</td>\n",
       "      <td>476859.0</td>\n",
       "      <td>UAL</td>\n",
       "    </tr>\n",
       "  </tbody>\n",
       "</table>\n",
       "<p>829078 rows × 9 columns</p>\n",
       "</div>"
      ],
      "text/plain": [
       "                      Time     Open    High      Low     Last  Change  %Chg  \\\n",
       "0      2022-05-03 11:15:00  18.6900  18.770  18.6650  18.7450  0.0550  0.29   \n",
       "1      2022-05-03 11:30:00  18.7450  18.855  18.7350  18.8350  0.0900  0.48   \n",
       "2      2022-05-03 11:45:00  18.8400  18.850  18.7400  18.7761 -0.0589 -0.31   \n",
       "3      2022-05-03 12:00:00  18.7703  18.810  18.6540  18.7272 -0.0489 -0.26   \n",
       "4      2022-05-03 12:15:00  18.7300  18.820  18.7300  18.7400  0.0128  0.07   \n",
       "...                    ...      ...     ...      ...      ...     ...   ...   \n",
       "837395 2022-05-03 10:00:00  50.5000  50.750  49.8250  49.9700 -0.5300 -1.05   \n",
       "837396 2022-05-03 10:15:00  49.9700  50.270  49.6500  50.2400  0.2700  0.54   \n",
       "837397 2022-05-03 10:30:00  50.2400  50.550  50.0800  50.1600 -0.0800 -0.16   \n",
       "837398 2022-05-03 10:45:00  50.1700  50.520  50.0301  50.4450  0.2850  0.57   \n",
       "837399 2022-05-03 11:00:00  50.4462  50.850  50.3300  50.8400  0.3950  0.78   \n",
       "\n",
       "          Volume ticker  \n",
       "0       844892.0    AAL  \n",
       "1       790483.0    AAL  \n",
       "2       600037.0    AAL  \n",
       "3       738723.0    AAL  \n",
       "4       582906.0    AAL  \n",
       "...          ...    ...  \n",
       "837395  472374.0    UAL  \n",
       "837396  388933.0    UAL  \n",
       "837397  346036.0    UAL  \n",
       "837398  319102.0    UAL  \n",
       "837399  476859.0    UAL  \n",
       "\n",
       "[829078 rows x 9 columns]"
      ]
     },
     "execution_count": 103,
     "metadata": {},
     "output_type": "execute_result"
    }
   ],
   "source": [
    "# Convert 'Time' column to datetime format\n",
    "df_main['Time'] = pd.to_datetime(df_main['Time'], format='%Y-%m-%d %H:%M')\n",
    "df_main['%Chg'] = df_main['%Chg'].str.replace('%', '').astype(float)\n",
    "df_main"
   ]
  },
  {
   "cell_type": "code",
   "execution_count": 104,
   "id": "8ff7060e",
   "metadata": {},
   "outputs": [],
   "source": [
    "# Finance variables\n",
    "df_main['High-Low']   =  df_main['High'] - df_main['Low']\n",
    "df_main['High-Low%']  = (df_main['High'] / df_main['Open']) - 1\n",
    "df_main['Last-Open']  =  df_main['Open'] - df_main['Last']\n",
    "df_main['Last-Open%'] = (df_main['Open'] / df_main['Last']) - 1\n",
    "\n",
    "df_main.sort_values(by=['ticker', 'Time'], inplace=True)\n",
    "\n",
    "# 10-period rolling variance\n",
    "df_main['Roll_SD_Last_10']   = df_main.groupby('ticker')['Last'].rolling(window=10).std().reset_index(level=0, drop=True)\n",
    "df_main['Roll_SDSD_Last_10'] = df_main.groupby('ticker')['Roll_SD_Last_10'].rolling(window=10).std().reset_index(level=0, drop=True)\n",
    "\n",
    "df_main['Roll_SD_Volume_10']   = df_main.groupby('ticker')['Volume'].rolling(window=10).std().reset_index(level=0, drop=True)\n",
    "df_main['Roll_SDSD_Volume_10'] = df_main.groupby('ticker')['Roll_SD_Volume_10'].rolling(window=10).std().reset_index(level=0, drop=True)\n",
    "\n",
    "for i in ['Last', 'Volume', 'High-Low', 'Last-Open', 'Roll_SD_Last_10', 'Roll_SDSD_Last_10', 'Roll_SD_Volume_10', 'Roll_SDSD_Volume_10']:\n",
    "    df_main[f'Change_{i}'] = df_main.groupby('ticker')[i].diff()"
   ]
  },
  {
   "cell_type": "code",
   "execution_count": 105,
   "id": "6c8652ae",
   "metadata": {},
   "outputs": [],
   "source": [
    "df_main['ti']=df_main['Time'].dt.time\n",
    "df_main.sort_values(by=['ticker', 'Time'], inplace=True)\n",
    "\n",
    "# More efficient approach for lagged variables\n",
    "for day_lag in range(1, 11):\n",
    "    df_main[f'Change_Volume_Day_lag{day_lag:02d}'] = None\n",
    "    \n",
    "    for time_val in df_main['ti'].unique():\n",
    "        mask = df_main['ti'] == time_val\n",
    "        subset = df_main[mask].copy()\n",
    "        subset = subset.sort_values(['ticker', 'Time'])\n",
    "        \n",
    "        # Calculate lag for each ticker separately\n",
    "        lagged_values = subset.groupby('ticker')['Volume'].diff().shift(day_lag)\n",
    "        df_main.loc[mask, f'Change_Volume_Day_lag{day_lag:02d}'] = lagged_values.values"
   ]
  },
  {
   "cell_type": "code",
   "execution_count": 106,
   "id": "1961fa2c",
   "metadata": {},
   "outputs": [],
   "source": [
    "df_main.drop(columns=[\n",
    "    'Open', 'High', 'Low', '%Chg', 'High-Low', 'High-Low%', 'Last-Open', 'Last-Open%',\n",
    "       'Roll_SD_Last_10', 'Roll_SDSD_Last_10', 'Roll_SD_Volume_10', 'Change', 'Roll_SDSD_Volume_10', 'ti'\n",
    "       ], inplace=True)"
   ]
  },
  {
   "cell_type": "code",
   "execution_count": 107,
   "id": "2cb8b459",
   "metadata": {},
   "outputs": [],
   "source": [
    "windows=[4,8,16,26]\n",
    "vars=['Last', 'Volume', 'Change_Last', 'Change_Volume',\n",
    "       'Change_High-Low', 'Change_Last-Open', 'Change_Roll_SD_Last_10',\n",
    "       'Change_Roll_SDSD_Last_10', 'Change_Roll_SD_Volume_10',\n",
    "       'Change_Roll_SDSD_Volume_10']\n",
    "\n",
    "# Moving averages\n",
    "for window in windows:\n",
    "    for var in vars:\n",
    "        df_main[f'{var}_ma{window:02d}'] = df_main.groupby('ticker')[var].transform(lambda x: x.rolling(window=window).mean())"
   ]
  },
  {
   "cell_type": "code",
   "execution_count": 108,
   "id": "2de97eeb",
   "metadata": {},
   "outputs": [],
   "source": [
    "# Calculate lags\n",
    "vars = ['Change_High-Low','Change_High-Low_ma04','Change_High-Low_ma08','Change_High-Low_ma16','Change_High-Low_ma26','Change_Last-Open','Change_Last-Open_ma04','Change_Last-Open_ma08','Change_Last-Open_ma16','Change_Last-Open_ma26','Change_Last_ma04','Change_Last_ma08','Change_Last_ma16','Change_Last_ma26','Change_Roll_SDSD_Last_10','Change_Roll_SDSD_Last_10_ma04','Change_Roll_SDSD_Last_10_ma08','Change_Roll_SDSD_Last_10_ma16','Change_Roll_SDSD_Last_10_ma26','Change_Roll_SDSD_Volume_10','Change_Roll_SDSD_Volume_10_ma04','Change_Roll_SDSD_Volume_10_ma08','Change_Roll_SDSD_Volume_10_ma16','Change_Roll_SDSD_Volume_10_ma26','Change_Roll_SD_Last_10','Change_Roll_SD_Last_10_ma04','Change_Roll_SD_Last_10_ma08','Change_Roll_SD_Last_10_ma16','Change_Roll_SD_Last_10_ma26','Change_Roll_SD_Volume_10','Change_Roll_SD_Volume_10_ma04','Change_Roll_SD_Volume_10_ma08','Change_Roll_SD_Volume_10_ma16','Change_Roll_SD_Volume_10_ma26','Change_Volume_ma04','Change_Volume_ma08','Change_Volume_ma16','Change_Volume_ma26','Last_ma04','Last_ma08','Last_ma16','Last_ma26','Volume_ma04','Volume_ma08','Volume_ma16','Volume_ma26']\n",
    "\n",
    "for var in vars:\n",
    "    df_main[f'{var}_lag01'] = df_main.groupby('ticker')[var].shift(1)\n",
    "\n",
    "vars=['Last', 'Volume', 'Change_Last', 'Change_Volume']\n",
    "\n",
    "for l in range(1, 27):\n",
    "    for var in vars:\n",
    "        df_main[f'{var}_lag{l:02d}'] = df_main.groupby('ticker')[var].shift(l)"
   ]
  },
  {
   "cell_type": "code",
   "execution_count": 109,
   "id": "27df3ce2",
   "metadata": {},
   "outputs": [],
   "source": [
    "# reshape the data to wide format, adding the ticker as a prefix to all columns\n",
    "to_reshape = df_main.columns.difference(['Time', 'ticker'])\n",
    "df_wide = df_main.pivot_table(index='Time', columns='ticker', values=to_reshape, aggfunc='first')\n",
    "# Forward fill missing values\n",
    "df_wide = df_wide.ffill()"
   ]
  },
  {
   "cell_type": "code",
   "execution_count": 110,
   "id": "8e71272e",
   "metadata": {},
   "outputs": [],
   "source": [
    "# Flatten the MultiIndex column names\n",
    "df_wide.columns = [f'{ticker}_{col}' for col, ticker in df_wide.columns]\n",
    "df_wide = df_wide[df_wide.index >= datetime.datetime(2018, 1, 1, 0, 0)]"
   ]
  },
  {
   "cell_type": "code",
   "execution_count": 111,
   "id": "b19e502c",
   "metadata": {},
   "outputs": [],
   "source": [
    "# Sort columns alphabetically\n",
    "df_wide = df_wide.reindex(sorted(df_wide.columns), axis=1)"
   ]
  },
  {
   "cell_type": "code",
   "execution_count": 112,
   "id": "7902a930",
   "metadata": {},
   "outputs": [],
   "source": [
    "# Create day of week dummies\n",
    "df_wide['day_of_week']   = df_wide.index.dayofweek\n",
    "df_wide['month_of_year'] = df_wide.index.month\n",
    "df_wide['hour_of_day']   = df_wide.index.hour\n",
    "\n",
    "# Create dummy variables for categorical features\n",
    "df_wide = pd.get_dummies(df_wide, columns=['day_of_week', 'month_of_year', 'hour_of_day'], drop_first=False)\n",
    "\n",
    "df_wide['is_open']  = np.where((df_wide.index.hour == 9)  & (df_wide.index.minute == 30), 1, 0)\n",
    "df_wide['is_close'] = np.where((df_wide.index.hour == 15) & (df_wide.index.minute == 45), 1, 0)"
   ]
  },
  {
   "cell_type": "code",
   "execution_count": 113,
   "id": "a7f2982d",
   "metadata": {},
   "outputs": [],
   "source": [
    "# Save the processed DataFrame to a pickle file\n",
    "output_path = r\"../../data/processed/stock_data.pkl\"\n",
    "with open(output_path, 'wb') as f:\n",
    "    pickle.dump(df_wide, f)"
   ]
  },
  {
   "cell_type": "code",
   "execution_count": 17,
   "id": "049715ed",
   "metadata": {},
   "outputs": [],
   "source": [
    "# Create the long data for each of the 7 tickers of interest\n",
    "tickers = ['AAL', 'ALGT', 'ALK', 'DAL', 'JBLU', 'LUV', 'UAL']\n",
    "\n",
    "# Copy the df_wide 7 times\n",
    "df_long = pd.concat([df_wide] * 7, keys=tickers, names=['ticker', 'Time'])\n",
    "\n",
    "# Split the index into two columns\n",
    "df_long = df_long.reset_index()\n",
    "df_long.rename(columns={'level_0': 'ticker', 'level_1': 'Time'}, inplace=True)\n",
    "\n",
    "# Add overall columns (y variables)\n",
    "vars=['Last', 'Volume', 'Change_Last', 'Change_Volume']\n",
    "\n",
    "for var in vars:\n",
    "    df_long[var] = None\n",
    "\n",
    "    for ticker in tickers:\n",
    "        same_rows = df_long[df_long['ticker'] == ticker]\n",
    "        vals = same_rows[f'{ticker}_{var}'].values\n",
    "        mask = df_long['ticker'] == ticker\n",
    "        df_long.loc[mask, var] = vals\n",
    "\n",
    "# Move the new columns to the front\n",
    "cols = ['ticker', 'Time', 'Last', 'Volume', 'Change_Last', 'Change_Volume'] + [col for col in df_long.columns if col not in ['ticker', 'Time', 'Last', 'Volume', 'Change_Last', 'Change_Volume']]\n",
    "df_long = df_long[cols]"
   ]
  },
  {
   "cell_type": "code",
   "execution_count": 18,
   "id": "371b5d8f",
   "metadata": {},
   "outputs": [],
   "source": [
    "# Convert new columns to numeric\n",
    "for col in ['Last', 'Volume', 'Change_Last', 'Change_Volume']:\n",
    "    df_long[col] = pd.to_numeric(df_long[col], errors='coerce')"
   ]
  },
  {
   "cell_type": "code",
   "execution_count": 22,
   "id": "400b6d28",
   "metadata": {},
   "outputs": [],
   "source": [
    "# Now we can drop any X variables that use contemporaneous info\n",
    "cols_to_drop = [i for i in df_long.columns if 'lag' not in i \n",
    "                and i not in ['ticker', 'Time', 'Last', 'Volume', 'Change_Last', 'Change_Volume', 'is_open', 'is_close']\n",
    "                and 'day_of_week'   not in i\n",
    "                and 'month_of_year' not in i\n",
    "                and 'hour_of_day'   not in i\n",
    "                ]\n",
    "df_long.drop(columns=cols_to_drop, inplace=True)"
   ]
  },
  {
   "cell_type": "code",
   "execution_count": 23,
   "id": "d90c7f75",
   "metadata": {},
   "outputs": [],
   "source": [
    "df_long['Log_Volume'] = np.log1p(df_long['Volume'])\n",
    "df_long['Log_Price']  = np.log1p(df_long['Last'])"
   ]
  },
  {
   "cell_type": "code",
   "execution_count": 24,
   "id": "6920eef4",
   "metadata": {},
   "outputs": [],
   "source": [
    "# Save the processed DataFrame to a pickle file\n",
    "output_path = r\"../../data/processed/stock_data_long.pkl\"\n",
    "with open(output_path, 'wb') as f:\n",
    "    pickle.dump(df_long, f)"
   ]
  }
 ],
 "metadata": {
  "kernelspec": {
   "display_name": "svo-directed-practicum (3.12.9)",
   "language": "python",
   "name": "python3"
  },
  "language_info": {
   "codemirror_mode": {
    "name": "ipython",
    "version": 3
   },
   "file_extension": ".py",
   "mimetype": "text/x-python",
   "name": "python",
   "nbconvert_exporter": "python",
   "pygments_lexer": "ipython3",
   "version": "3.12.10"
  }
 },
 "nbformat": 4,
 "nbformat_minor": 5
}
