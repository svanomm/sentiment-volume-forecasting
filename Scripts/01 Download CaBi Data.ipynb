{
 "cells": [
  {
   "cell_type": "code",
   "execution_count": 22,
   "id": "9547c9b1",
   "metadata": {},
   "outputs": [],
   "source": [
    "import requests\n",
    "import os\n",
    "import zipfile"
   ]
  },
  {
   "cell_type": "code",
   "execution_count": null,
   "id": "217c64df",
   "metadata": {},
   "outputs": [],
   "source": [
    "# URL to scrape for ZIP files\n",
    "base_url = \"https://s3.amazonaws.com/capitalbikeshare-data/\"  # Replace with your target website\n",
    "download_folder = \"../Data/Raw\"  # Folder to store downloaded files\n",
    "\n",
    "# Create the download folder if it doesn't exist\n",
    "os.makedirs(download_folder, exist_ok=True)"
   ]
  },
  {
   "cell_type": "markdown",
   "id": "27f8d09b",
   "metadata": {},
   "source": [
    "The CaBi data follows a common pattern. Example files:\n",
    "https://s3.amazonaws.com/capitalbikeshare-data/202201-capitalbikeshare-tripdata.zip\n",
    "https://s3.amazonaws.com/capitalbikeshare-data/202305-capitalbikeshare-tripdata.zip\n",
    "\n",
    "All we need to do is update the year-month value."
   ]
  },
  {
   "cell_type": "code",
   "execution_count": 19,
   "id": "cc4ed10e",
   "metadata": {},
   "outputs": [
    {
     "data": {
      "text/plain": [
       "['https://s3.amazonaws.com/capitalbikeshare-data/202201-capitalbikeshare-tripdata.zip',\n",
       " 'https://s3.amazonaws.com/capitalbikeshare-data/202202-capitalbikeshare-tripdata.zip',\n",
       " 'https://s3.amazonaws.com/capitalbikeshare-data/202203-capitalbikeshare-tripdata.zip',\n",
       " 'https://s3.amazonaws.com/capitalbikeshare-data/202204-capitalbikeshare-tripdata.zip',\n",
       " 'https://s3.amazonaws.com/capitalbikeshare-data/202205-capitalbikeshare-tripdata.zip',\n",
       " 'https://s3.amazonaws.com/capitalbikeshare-data/202206-capitalbikeshare-tripdata.zip',\n",
       " 'https://s3.amazonaws.com/capitalbikeshare-data/202207-capitalbikeshare-tripdata.zip',\n",
       " 'https://s3.amazonaws.com/capitalbikeshare-data/202208-capitalbikeshare-tripdata.zip',\n",
       " 'https://s3.amazonaws.com/capitalbikeshare-data/202209-capitalbikeshare-tripdata.zip',\n",
       " 'https://s3.amazonaws.com/capitalbikeshare-data/202210-capitalbikeshare-tripdata.zip',\n",
       " 'https://s3.amazonaws.com/capitalbikeshare-data/202211-capitalbikeshare-tripdata.zip',\n",
       " 'https://s3.amazonaws.com/capitalbikeshare-data/202212-capitalbikeshare-tripdata.zip',\n",
       " 'https://s3.amazonaws.com/capitalbikeshare-data/202301-capitalbikeshare-tripdata.zip',\n",
       " 'https://s3.amazonaws.com/capitalbikeshare-data/202302-capitalbikeshare-tripdata.zip',\n",
       " 'https://s3.amazonaws.com/capitalbikeshare-data/202303-capitalbikeshare-tripdata.zip',\n",
       " 'https://s3.amazonaws.com/capitalbikeshare-data/202304-capitalbikeshare-tripdata.zip',\n",
       " 'https://s3.amazonaws.com/capitalbikeshare-data/202305-capitalbikeshare-tripdata.zip',\n",
       " 'https://s3.amazonaws.com/capitalbikeshare-data/202306-capitalbikeshare-tripdata.zip',\n",
       " 'https://s3.amazonaws.com/capitalbikeshare-data/202307-capitalbikeshare-tripdata.zip',\n",
       " 'https://s3.amazonaws.com/capitalbikeshare-data/202308-capitalbikeshare-tripdata.zip',\n",
       " 'https://s3.amazonaws.com/capitalbikeshare-data/202309-capitalbikeshare-tripdata.zip',\n",
       " 'https://s3.amazonaws.com/capitalbikeshare-data/202310-capitalbikeshare-tripdata.zip',\n",
       " 'https://s3.amazonaws.com/capitalbikeshare-data/202311-capitalbikeshare-tripdata.zip',\n",
       " 'https://s3.amazonaws.com/capitalbikeshare-data/202312-capitalbikeshare-tripdata.zip',\n",
       " 'https://s3.amazonaws.com/capitalbikeshare-data/202401-capitalbikeshare-tripdata.zip',\n",
       " 'https://s3.amazonaws.com/capitalbikeshare-data/202402-capitalbikeshare-tripdata.zip',\n",
       " 'https://s3.amazonaws.com/capitalbikeshare-data/202403-capitalbikeshare-tripdata.zip',\n",
       " 'https://s3.amazonaws.com/capitalbikeshare-data/202404-capitalbikeshare-tripdata.zip',\n",
       " 'https://s3.amazonaws.com/capitalbikeshare-data/202405-capitalbikeshare-tripdata.zip',\n",
       " 'https://s3.amazonaws.com/capitalbikeshare-data/202406-capitalbikeshare-tripdata.zip',\n",
       " 'https://s3.amazonaws.com/capitalbikeshare-data/202407-capitalbikeshare-tripdata.zip',\n",
       " 'https://s3.amazonaws.com/capitalbikeshare-data/202408-capitalbikeshare-tripdata.zip',\n",
       " 'https://s3.amazonaws.com/capitalbikeshare-data/202409-capitalbikeshare-tripdata.zip',\n",
       " 'https://s3.amazonaws.com/capitalbikeshare-data/202410-capitalbikeshare-tripdata.zip',\n",
       " 'https://s3.amazonaws.com/capitalbikeshare-data/202411-capitalbikeshare-tripdata.zip',\n",
       " 'https://s3.amazonaws.com/capitalbikeshare-data/202412-capitalbikeshare-tripdata.zip',\n",
       " 'https://s3.amazonaws.com/capitalbikeshare-data/202501-capitalbikeshare-tripdata.zip',\n",
       " 'https://s3.amazonaws.com/capitalbikeshare-data/202502-capitalbikeshare-tripdata.zip',\n",
       " 'https://s3.amazonaws.com/capitalbikeshare-data/202503-capitalbikeshare-tripdata.zip',\n",
       " 'https://s3.amazonaws.com/capitalbikeshare-data/202504-capitalbikeshare-tripdata.zip',\n",
       " 'https://s3.amazonaws.com/capitalbikeshare-data/202505-capitalbikeshare-tripdata.zip',\n",
       " 'https://s3.amazonaws.com/capitalbikeshare-data/202506-capitalbikeshare-tripdata.zip',\n",
       " 'https://s3.amazonaws.com/capitalbikeshare-data/202507-capitalbikeshare-tripdata.zip',\n",
       " 'https://s3.amazonaws.com/capitalbikeshare-data/202508-capitalbikeshare-tripdata.zip',\n",
       " 'https://s3.amazonaws.com/capitalbikeshare-data/202509-capitalbikeshare-tripdata.zip',\n",
       " 'https://s3.amazonaws.com/capitalbikeshare-data/202510-capitalbikeshare-tripdata.zip',\n",
       " 'https://s3.amazonaws.com/capitalbikeshare-data/202511-capitalbikeshare-tripdata.zip',\n",
       " 'https://s3.amazonaws.com/capitalbikeshare-data/202512-capitalbikeshare-tripdata.zip']"
      ]
     },
     "execution_count": 19,
     "metadata": {},
     "output_type": "execute_result"
    }
   ],
   "source": [
    "links = []\n",
    "\n",
    "for year in range(2022,2026):\n",
    "    for month in range(1, 13):\n",
    "        # Construct the URL for the specific month and year\n",
    "        url = f\"{base_url}{year}{month:02d}-capitalbikeshare-tripdata.zip\"\n",
    "        links.append(url)\n",
    "\n",
    "links"
   ]
  },
  {
   "cell_type": "code",
   "execution_count": 20,
   "id": "f0a79faf",
   "metadata": {},
   "outputs": [],
   "source": [
    "def download_file(url, destination):\n",
    "    \"\"\"\n",
    "    Download a file from a URL to a specified destination\n",
    "    with progress tracking\n",
    "    \"\"\"\n",
    "    response = requests.get(url, stream=True)\n",
    "    if response.status_code == 200:\n",
    "        file_size = int(response.headers.get('content-length', 0))\n",
    "        filename = os.path.basename(url)\n",
    "        filepath = os.path.join(destination, filename)\n",
    "        \n",
    "        # Skip download if file already exists with same size\n",
    "        if os.path.exists(filepath) and os.path.getsize(filepath) == file_size:\n",
    "            print(f\"File already exists: {filename}\")\n",
    "            return filepath\n",
    "        \n",
    "        # Download with progress bar\n",
    "        with open(filepath, 'wb') as f:\n",
    "            print(f\"Downloading {filename}\")\n",
    "            f.write(response.content)\n",
    "    else:\n",
    "        print(f\"Failed to download {url}: Status code {response.status_code}\")\n",
    "        return None\n"
   ]
  },
  {
   "cell_type": "code",
   "execution_count": null,
   "id": "2bad310b",
   "metadata": {},
   "outputs": [
    {
     "name": "stdout",
     "output_type": "stream",
     "text": [
      "Downloading 202201-capitalbikeshare-tripdata.zip\n"
     ]
    }
   ],
   "source": [
    "for link in links:\n",
    "    # Download each file\n",
    "    download_file(link, download_folder)"
   ]
  },
  {
   "cell_type": "code",
   "execution_count": null,
   "id": "839d1027",
   "metadata": {},
   "outputs": [],
   "source": [
    "def unzip_file(zip_path, extract_to=None):\n",
    "    \"\"\"\n",
    "    Unzip a file to the specified directory\n",
    "    If extract_to is None, extract to the same directory as the zip file\n",
    "    \"\"\"\n",
    "    if extract_to is None:\n",
    "        extract_to = os.path.dirname(zip_path)\n",
    "    \n",
    "    # Create extraction directory if it doesn't exist\n",
    "    os.makedirs(extract_to, exist_ok=True)\n",
    "    \n",
    "    filename = os.path.basename(zip_path)\n",
    "    print(f\"Extracting {filename}...\")\n",
    "    \n",
    "    with zipfile.ZipFile(zip_path, 'r') as zip_ref:\n",
    "        # Get list of files to extract\n",
    "        file_list = zip_ref.namelist()\n",
    "        \n",
    "        # Extract all files with progress\n",
    "        for file in file_list:\n",
    "            zip_ref.extract(file, extract_to)\n"
   ]
  },
  {
   "cell_type": "code",
   "execution_count": null,
   "id": "f0dec719",
   "metadata": {},
   "outputs": [
    {
     "data": {
      "text/plain": [
       "'../Data/Raw/202201-capitalbikeshare-tripdata.zip'"
      ]
     },
     "execution_count": 25,
     "metadata": {},
     "output_type": "execute_result"
    }
   ],
   "source": [
    "# List all zip files in the Raw folder\n",
    "zip_files = [f'{download_folder}/{f}' for f in os.listdir(download_folder) if f.endswith('.zip')]\n",
    "zip_files[0]"
   ]
  },
  {
   "cell_type": "code",
   "execution_count": null,
   "id": "19c6f2e5",
   "metadata": {},
   "outputs": [
    {
     "name": "stdout",
     "output_type": "stream",
     "text": [
      "Extracting 202201-capitalbikeshare-tripdata.zip...\n"
     ]
    }
   ],
   "source": [
    "for file in zip_files:\n",
    "    # Unzip each file\n",
    "    unzip_file(file)"
   ]
  }
 ],
 "metadata": {
  "kernelspec": {
   "display_name": "Python 3",
   "language": "python",
   "name": "python3"
  },
  "language_info": {
   "codemirror_mode": {
    "name": "ipython",
    "version": 3
   },
   "file_extension": ".py",
   "mimetype": "text/x-python",
   "name": "python",
   "nbconvert_exporter": "python",
   "pygments_lexer": "ipython3",
   "version": "3.12.10"
  }
 },
 "nbformat": 4,
 "nbformat_minor": 5
}
