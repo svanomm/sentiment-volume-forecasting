{
 "cells": [
  {
   "cell_type": "code",
   "execution_count": 38,
   "id": "26aa2b37",
   "metadata": {},
   "outputs": [],
   "source": [
    "import pandas as pd\n",
    "import matplotlib.pyplot as plt\n",
    "import keras\n",
    "from zipfile import ZipFile\n",
    "import pickle\n",
    "import numpy as np\n",
    "from sklearn.preprocessing import StandardScaler\n",
    "from keras.preprocessing import timeseries_dataset_from_array as ts_split\n",
    "from keras import layers as kl"
   ]
  },
  {
   "cell_type": "code",
   "execution_count": 39,
   "id": "67991b7c",
   "metadata": {},
   "outputs": [
    {
     "data": {
      "text/html": [
       "<div>\n",
       "<style scoped>\n",
       "    .dataframe tbody tr th:only-of-type {\n",
       "        vertical-align: middle;\n",
       "    }\n",
       "\n",
       "    .dataframe tbody tr th {\n",
       "        vertical-align: top;\n",
       "    }\n",
       "\n",
       "    .dataframe thead th {\n",
       "        text-align: right;\n",
       "    }\n",
       "</style>\n",
       "<table border=\"1\" class=\"dataframe\">\n",
       "  <thead>\n",
       "    <tr style=\"text-align: right;\">\n",
       "      <th></th>\n",
       "      <th>AAL_Last</th>\n",
       "      <th>ALGT_Last</th>\n",
       "      <th>ALK_Last</th>\n",
       "      <th>DAL_Last</th>\n",
       "      <th>ITA_Last</th>\n",
       "      <th>IYT_Last</th>\n",
       "      <th>JBLU_Last</th>\n",
       "      <th>JETS_Last</th>\n",
       "      <th>LUV_Last</th>\n",
       "      <th>UAL_Last</th>\n",
       "    </tr>\n",
       "    <tr>\n",
       "      <th>Time</th>\n",
       "      <th></th>\n",
       "      <th></th>\n",
       "      <th></th>\n",
       "      <th></th>\n",
       "      <th></th>\n",
       "      <th></th>\n",
       "      <th></th>\n",
       "      <th></th>\n",
       "      <th></th>\n",
       "      <th></th>\n",
       "    </tr>\n",
       "  </thead>\n",
       "  <tbody>\n",
       "    <tr>\n",
       "      <th>2022-05-05 09:30:00</th>\n",
       "      <td>19.3500</td>\n",
       "      <td>156.740</td>\n",
       "      <td>52.6100</td>\n",
       "      <td>43.3400</td>\n",
       "      <td>105.7100</td>\n",
       "      <td>61.3925</td>\n",
       "      <td>11.2600</td>\n",
       "      <td>21.520</td>\n",
       "      <td>47.6609</td>\n",
       "      <td>51.350</td>\n",
       "    </tr>\n",
       "    <tr>\n",
       "      <th>2022-05-05 09:45:00</th>\n",
       "      <td>19.2200</td>\n",
       "      <td>155.295</td>\n",
       "      <td>52.5016</td>\n",
       "      <td>43.2553</td>\n",
       "      <td>105.4000</td>\n",
       "      <td>61.3375</td>\n",
       "      <td>11.2500</td>\n",
       "      <td>21.445</td>\n",
       "      <td>47.5900</td>\n",
       "      <td>51.020</td>\n",
       "    </tr>\n",
       "    <tr>\n",
       "      <th>2022-05-05 10:00:00</th>\n",
       "      <td>19.1600</td>\n",
       "      <td>154.910</td>\n",
       "      <td>52.3480</td>\n",
       "      <td>43.1900</td>\n",
       "      <td>104.7200</td>\n",
       "      <td>61.1175</td>\n",
       "      <td>11.2099</td>\n",
       "      <td>21.390</td>\n",
       "      <td>47.6100</td>\n",
       "      <td>50.850</td>\n",
       "    </tr>\n",
       "    <tr>\n",
       "      <th>2022-05-05 10:15:00</th>\n",
       "      <td>19.0700</td>\n",
       "      <td>154.360</td>\n",
       "      <td>52.0500</td>\n",
       "      <td>42.9300</td>\n",
       "      <td>104.6400</td>\n",
       "      <td>60.8625</td>\n",
       "      <td>11.1400</td>\n",
       "      <td>21.270</td>\n",
       "      <td>47.3750</td>\n",
       "      <td>50.506</td>\n",
       "    </tr>\n",
       "    <tr>\n",
       "      <th>2022-05-05 10:30:00</th>\n",
       "      <td>19.1000</td>\n",
       "      <td>153.915</td>\n",
       "      <td>51.9000</td>\n",
       "      <td>42.8600</td>\n",
       "      <td>104.5600</td>\n",
       "      <td>60.7750</td>\n",
       "      <td>11.1400</td>\n",
       "      <td>21.270</td>\n",
       "      <td>47.3100</td>\n",
       "      <td>50.510</td>\n",
       "    </tr>\n",
       "    <tr>\n",
       "      <th>...</th>\n",
       "      <td>...</td>\n",
       "      <td>...</td>\n",
       "      <td>...</td>\n",
       "      <td>...</td>\n",
       "      <td>...</td>\n",
       "      <td>...</td>\n",
       "      <td>...</td>\n",
       "      <td>...</td>\n",
       "      <td>...</td>\n",
       "      <td>...</td>\n",
       "    </tr>\n",
       "    <tr>\n",
       "      <th>2025-05-30 14:45:00</th>\n",
       "      <td>11.4250</td>\n",
       "      <td>55.945</td>\n",
       "      <td>51.3300</td>\n",
       "      <td>48.3850</td>\n",
       "      <td>176.8500</td>\n",
       "      <td>65.4800</td>\n",
       "      <td>5.1300</td>\n",
       "      <td>22.675</td>\n",
       "      <td>33.4150</td>\n",
       "      <td>79.480</td>\n",
       "    </tr>\n",
       "    <tr>\n",
       "      <th>2025-05-30 15:00:00</th>\n",
       "      <td>11.4350</td>\n",
       "      <td>55.930</td>\n",
       "      <td>51.2850</td>\n",
       "      <td>48.4850</td>\n",
       "      <td>177.0475</td>\n",
       "      <td>65.4950</td>\n",
       "      <td>5.1100</td>\n",
       "      <td>22.690</td>\n",
       "      <td>33.4850</td>\n",
       "      <td>79.520</td>\n",
       "    </tr>\n",
       "    <tr>\n",
       "      <th>2025-05-30 15:15:00</th>\n",
       "      <td>11.4650</td>\n",
       "      <td>56.050</td>\n",
       "      <td>51.4100</td>\n",
       "      <td>48.6550</td>\n",
       "      <td>177.4300</td>\n",
       "      <td>65.6100</td>\n",
       "      <td>5.1250</td>\n",
       "      <td>22.740</td>\n",
       "      <td>33.5550</td>\n",
       "      <td>79.910</td>\n",
       "    </tr>\n",
       "    <tr>\n",
       "      <th>2025-05-30 15:30:00</th>\n",
       "      <td>11.4501</td>\n",
       "      <td>55.990</td>\n",
       "      <td>51.2500</td>\n",
       "      <td>48.5375</td>\n",
       "      <td>177.2300</td>\n",
       "      <td>65.5200</td>\n",
       "      <td>5.1000</td>\n",
       "      <td>22.720</td>\n",
       "      <td>33.5050</td>\n",
       "      <td>79.760</td>\n",
       "    </tr>\n",
       "    <tr>\n",
       "      <th>2025-05-30 15:45:00</th>\n",
       "      <td>11.4100</td>\n",
       "      <td>55.580</td>\n",
       "      <td>50.9100</td>\n",
       "      <td>48.3800</td>\n",
       "      <td>177.2400</td>\n",
       "      <td>65.5200</td>\n",
       "      <td>5.0500</td>\n",
       "      <td>22.720</td>\n",
       "      <td>33.3700</td>\n",
       "      <td>79.445</td>\n",
       "    </tr>\n",
       "  </tbody>\n",
       "</table>\n",
       "<p>19954 rows × 10 columns</p>\n",
       "</div>"
      ],
      "text/plain": [
       "                     AAL_Last  ALGT_Last  ALK_Last  DAL_Last  ITA_Last  \\\n",
       "Time                                                                     \n",
       "2022-05-05 09:30:00   19.3500    156.740   52.6100   43.3400  105.7100   \n",
       "2022-05-05 09:45:00   19.2200    155.295   52.5016   43.2553  105.4000   \n",
       "2022-05-05 10:00:00   19.1600    154.910   52.3480   43.1900  104.7200   \n",
       "2022-05-05 10:15:00   19.0700    154.360   52.0500   42.9300  104.6400   \n",
       "2022-05-05 10:30:00   19.1000    153.915   51.9000   42.8600  104.5600   \n",
       "...                       ...        ...       ...       ...       ...   \n",
       "2025-05-30 14:45:00   11.4250     55.945   51.3300   48.3850  176.8500   \n",
       "2025-05-30 15:00:00   11.4350     55.930   51.2850   48.4850  177.0475   \n",
       "2025-05-30 15:15:00   11.4650     56.050   51.4100   48.6550  177.4300   \n",
       "2025-05-30 15:30:00   11.4501     55.990   51.2500   48.5375  177.2300   \n",
       "2025-05-30 15:45:00   11.4100     55.580   50.9100   48.3800  177.2400   \n",
       "\n",
       "                     IYT_Last  JBLU_Last  JETS_Last  LUV_Last  UAL_Last  \n",
       "Time                                                                     \n",
       "2022-05-05 09:30:00   61.3925    11.2600     21.520   47.6609    51.350  \n",
       "2022-05-05 09:45:00   61.3375    11.2500     21.445   47.5900    51.020  \n",
       "2022-05-05 10:00:00   61.1175    11.2099     21.390   47.6100    50.850  \n",
       "2022-05-05 10:15:00   60.8625    11.1400     21.270   47.3750    50.506  \n",
       "2022-05-05 10:30:00   60.7750    11.1400     21.270   47.3100    50.510  \n",
       "...                       ...        ...        ...       ...       ...  \n",
       "2025-05-30 14:45:00   65.4800     5.1300     22.675   33.4150    79.480  \n",
       "2025-05-30 15:00:00   65.4950     5.1100     22.690   33.4850    79.520  \n",
       "2025-05-30 15:15:00   65.6100     5.1250     22.740   33.5550    79.910  \n",
       "2025-05-30 15:30:00   65.5200     5.1000     22.720   33.5050    79.760  \n",
       "2025-05-30 15:45:00   65.5200     5.0500     22.720   33.3700    79.445  \n",
       "\n",
       "[19954 rows x 10 columns]"
      ]
     },
     "execution_count": 39,
     "metadata": {},
     "output_type": "execute_result"
    }
   ],
   "source": [
    "# Open the pickle file\n",
    "df = pickle.load(open('../data/processed/stock_data_simple.pkl', 'rb'))\n",
    "df"
   ]
  },
  {
   "cell_type": "code",
   "execution_count": 46,
   "id": "e1ef3cc7",
   "metadata": {},
   "outputs": [],
   "source": [
    "# Data preprocessing\n",
    "# Forward fill missing values\n",
    "df = df.ffill()\n",
    "\n",
    "y_cols = ['AAL_Last','ALGT_Last','ALK_Last','DAL_Last','JBLU_Last','LUV_Last','UAL_Last']\n",
    "x_cols = ['AAL_Last','ALGT_Last','ALK_Last','DAL_Last','ITA_Last','IYT_Last','JBLU_Last','JETS_Last','LUV_Last','UAL_Last']\n",
    "\n",
    "y = df[y_cols]\n",
    "x = df[x_cols]"
   ]
  },
  {
   "cell_type": "code",
   "execution_count": 47,
   "id": "4f4701b2",
   "metadata": {},
   "outputs": [],
   "source": [
    "# Train/text splitting\n",
    "split_test = round(0.7 * len(x))\n",
    "split_val  = round(0.9 * len(x))\n",
    "\n",
    "x_train = x[:split_test]\n",
    "x_test  = x[split_test:split_val]\n",
    "x_val   = x[split_val:]\n",
    "\n",
    "y_train = y[:split_test]\n",
    "y_test  = y[split_test:split_val]\n",
    "y_val   = y[split_val:]"
   ]
  },
  {
   "cell_type": "code",
   "execution_count": 48,
   "id": "e2d96ce8",
   "metadata": {},
   "outputs": [
    {
     "data": {
      "text/plain": [
       "array([[ 3.14069416,  2.90939782,  1.99409549, ...,  2.86138313,\n",
       "         3.01908621,  1.20541795],\n",
       "       [ 3.06018014,  2.84775748,  1.97204397, ...,  2.85470856,\n",
       "         3.00474968,  1.14921645],\n",
       "       [ 3.02301983,  2.83133427,  1.94079753, ...,  2.82794352,\n",
       "         3.00879384,  1.12026416],\n",
       "       ...,\n",
       "       [-1.94252734, -1.63402853, -0.43279228, ..., -0.75957246,\n",
       "        -0.91504834,  0.67916748],\n",
       "       [-1.94407569, -1.63727051, -0.4388951 , ..., -0.76624704,\n",
       "        -0.91605938,  0.69108902],\n",
       "       [-1.94413762, -1.64132299, -0.41753524, ..., -0.76624704,\n",
       "        -0.93419742,  0.6819435 ]])"
      ]
     },
     "execution_count": 48,
     "metadata": {},
     "output_type": "execute_result"
    }
   ],
   "source": [
    "# Normalize the features to mean=0 and std=1\n",
    "sc = StandardScaler()\n",
    "\n",
    "x_train = sc.fit_transform(x_train)\n",
    "x_test  = sc.fit_transform(x_test)\n",
    "x_val   = sc.fit_transform(x_val)\n",
    "y_train = sc.fit_transform(y_train)\n",
    "y_test  = sc.fit_transform(y_test)\n",
    "y_val   = sc.fit_transform(y_val)\n",
    "\n",
    "y_train"
   ]
  },
  {
   "cell_type": "code",
   "execution_count": 50,
   "id": "e2f3f558",
   "metadata": {},
   "outputs": [
    {
     "data": {
      "text/plain": [
       "(13968, 7)"
      ]
     },
     "execution_count": 50,
     "metadata": {},
     "output_type": "execute_result"
    }
   ],
   "source": [
    "y_train.shape"
   ]
  },
  {
   "cell_type": "code",
   "execution_count": 55,
   "id": "02aac98d",
   "metadata": {},
   "outputs": [
    {
     "data": {
      "text/plain": [
       "array([[ 3.14069416,  2.90939782,  1.99409549,  0.79865644, -0.77927987,\n",
       "         0.31497542,  2.86138313,  1.80147252,  3.01908621,  1.20541795],\n",
       "       [ 3.06018014,  2.84775748,  1.97204397,  0.78475482, -0.80822544,\n",
       "         0.30429063,  2.85470856,  1.75448403,  3.00474968,  1.14921645]])"
      ]
     },
     "execution_count": 55,
     "metadata": {},
     "output_type": "execute_result"
    }
   ],
   "source": [
    "x_train[0:2]"
   ]
  },
  {
   "cell_type": "code",
   "execution_count": 56,
   "id": "5a8511b6",
   "metadata": {},
   "outputs": [],
   "source": [
    "def create_tensor(data, type:str, steps_historical=100, steps_future=12):\n",
    "    tot_length = len(data) - steps_historical - steps_future + 1\n",
    "\n",
    "    if type.lower() == 'x':\n",
    "        x_tensor = np.zeros(shape=(tot_length, steps_historical, data.shape[1]))\n",
    "        for i in range(tot_length):\n",
    "            j = i + steps_historical\n",
    "            x_tensor[i] = data[i:j]\n",
    "        return x_tensor\n",
    "    \n",
    "    elif type.lower() == 'y':\n",
    "        y_tensor = np.zeros(shape=(tot_length, steps_future, data.shape[1]))\n",
    "        for i in range(tot_length):\n",
    "            j = i + steps_historical\n",
    "            k = j + steps_future\n",
    "            y_tensor[i] = data[j:k]\n",
    "        return y_tensor\n",
    "    \n",
    "    else:\n",
    "        raise ValueError(\"Type must be 'x' or 'y'.\")"
   ]
  },
  {
   "cell_type": "code",
   "execution_count": 60,
   "id": "ec84237e",
   "metadata": {},
   "outputs": [],
   "source": [
    "steps_historical = 100\n",
    "steps_future = 12\n",
    "\n",
    "x_tensor_train = create_tensor(x_train, type='x', steps_historical=steps_historical, steps_future=steps_future)\n",
    "x_tensor_test  = create_tensor(x_test , type='x', steps_historical=steps_historical, steps_future=steps_future)\n",
    "x_tensor_val   = create_tensor(x_val  , type='x', steps_historical=steps_historical, steps_future=steps_future)\n",
    "y_tensor_train = create_tensor(y_train, type='y', steps_historical=steps_historical, steps_future=steps_future)\n",
    "y_tensor_test  = create_tensor(y_test , type='y', steps_historical=steps_historical, steps_future=steps_future)\n",
    "y_tensor_val   = create_tensor(y_val  , type='y', steps_historical=steps_historical, steps_future=steps_future)"
   ]
  },
  {
   "cell_type": "code",
   "execution_count": 59,
   "id": "79a9a761",
   "metadata": {},
   "outputs": [
    {
     "name": "stdout",
     "output_type": "stream",
     "text": [
      "x_tensor_train shape: (13857, 100, 10)\n",
      "x_tensor_test shape: (3880, 100, 10)\n",
      "x_tensor_val shape: (1884, 100, 10)\n",
      "y_tensor_train shape: (13857, 12, 7)\n",
      "y_tensor_test shape: (3880, 12, 7)\n",
      "y_tensor_val shape: (1884, 12, 7)\n"
     ]
    }
   ],
   "source": [
    "for i in ['x_tensor_train', 'x_tensor_test', 'x_tensor_val', 'y_tensor_train', 'y_tensor_test', 'y_tensor_val']:\n",
    "    print(f\"{i} shape: {eval(i).shape}\")"
   ]
  },
  {
   "cell_type": "code",
   "execution_count": 78,
   "id": "dd632285",
   "metadata": {},
   "outputs": [
    {
     "data": {
      "text/html": [
       "<pre style=\"white-space:pre;overflow-x:auto;line-height:normal;font-family:Menlo,'DejaVu Sans Mono',consolas,'Courier New',monospace\"><span style=\"font-weight: bold\">Model: \"sequential_4\"</span>\n",
       "</pre>\n"
      ],
      "text/plain": [
       "\u001b[1mModel: \"sequential_4\"\u001b[0m\n"
      ]
     },
     "metadata": {},
     "output_type": "display_data"
    },
    {
     "data": {
      "text/html": [
       "<pre style=\"white-space:pre;overflow-x:auto;line-height:normal;font-family:Menlo,'DejaVu Sans Mono',consolas,'Courier New',monospace\">┏━━━━━━━━━━━━━━━━━━━━━━━━━━━━━━━━━┳━━━━━━━━━━━━━━━━━━━━━━━━┳━━━━━━━━━━━━━━━┓\n",
       "┃<span style=\"font-weight: bold\"> Layer (type)                    </span>┃<span style=\"font-weight: bold\"> Output Shape           </span>┃<span style=\"font-weight: bold\">       Param # </span>┃\n",
       "┡━━━━━━━━━━━━━━━━━━━━━━━━━━━━━━━━━╇━━━━━━━━━━━━━━━━━━━━━━━━╇━━━━━━━━━━━━━━━┩\n",
       "│ lstm_2 (<span style=\"color: #0087ff; text-decoration-color: #0087ff\">LSTM</span>)                   │ (<span style=\"color: #00d7ff; text-decoration-color: #00d7ff\">None</span>, <span style=\"color: #00af00; text-decoration-color: #00af00\">7</span>)              │           <span style=\"color: #00af00; text-decoration-color: #00af00\">504</span> │\n",
       "├─────────────────────────────────┼────────────────────────┼───────────────┤\n",
       "│ repeat_vector_3 (<span style=\"color: #0087ff; text-decoration-color: #0087ff\">RepeatVector</span>)  │ (<span style=\"color: #00d7ff; text-decoration-color: #00d7ff\">None</span>, <span style=\"color: #00af00; text-decoration-color: #00af00\">12</span>, <span style=\"color: #00af00; text-decoration-color: #00af00\">7</span>)          │             <span style=\"color: #00af00; text-decoration-color: #00af00\">0</span> │\n",
       "├─────────────────────────────────┼────────────────────────┼───────────────┤\n",
       "│ lstm_3 (<span style=\"color: #0087ff; text-decoration-color: #0087ff\">LSTM</span>)                   │ (<span style=\"color: #00d7ff; text-decoration-color: #00d7ff\">None</span>, <span style=\"color: #00af00; text-decoration-color: #00af00\">12</span>, <span style=\"color: #00af00; text-decoration-color: #00af00\">7</span>)          │           <span style=\"color: #00af00; text-decoration-color: #00af00\">420</span> │\n",
       "├─────────────────────────────────┼────────────────────────┼───────────────┤\n",
       "│ time_distributed_4              │ (<span style=\"color: #00d7ff; text-decoration-color: #00d7ff\">None</span>, <span style=\"color: #00af00; text-decoration-color: #00af00\">12</span>, <span style=\"color: #00af00; text-decoration-color: #00af00\">7</span>)          │            <span style=\"color: #00af00; text-decoration-color: #00af00\">56</span> │\n",
       "│ (<span style=\"color: #0087ff; text-decoration-color: #0087ff\">TimeDistributed</span>)               │                        │               │\n",
       "└─────────────────────────────────┴────────────────────────┴───────────────┘\n",
       "</pre>\n"
      ],
      "text/plain": [
       "┏━━━━━━━━━━━━━━━━━━━━━━━━━━━━━━━━━┳━━━━━━━━━━━━━━━━━━━━━━━━┳━━━━━━━━━━━━━━━┓\n",
       "┃\u001b[1m \u001b[0m\u001b[1mLayer (type)                   \u001b[0m\u001b[1m \u001b[0m┃\u001b[1m \u001b[0m\u001b[1mOutput Shape          \u001b[0m\u001b[1m \u001b[0m┃\u001b[1m \u001b[0m\u001b[1m      Param #\u001b[0m\u001b[1m \u001b[0m┃\n",
       "┡━━━━━━━━━━━━━━━━━━━━━━━━━━━━━━━━━╇━━━━━━━━━━━━━━━━━━━━━━━━╇━━━━━━━━━━━━━━━┩\n",
       "│ lstm_2 (\u001b[38;5;33mLSTM\u001b[0m)                   │ (\u001b[38;5;45mNone\u001b[0m, \u001b[38;5;34m7\u001b[0m)              │           \u001b[38;5;34m504\u001b[0m │\n",
       "├─────────────────────────────────┼────────────────────────┼───────────────┤\n",
       "│ repeat_vector_3 (\u001b[38;5;33mRepeatVector\u001b[0m)  │ (\u001b[38;5;45mNone\u001b[0m, \u001b[38;5;34m12\u001b[0m, \u001b[38;5;34m7\u001b[0m)          │             \u001b[38;5;34m0\u001b[0m │\n",
       "├─────────────────────────────────┼────────────────────────┼───────────────┤\n",
       "│ lstm_3 (\u001b[38;5;33mLSTM\u001b[0m)                   │ (\u001b[38;5;45mNone\u001b[0m, \u001b[38;5;34m12\u001b[0m, \u001b[38;5;34m7\u001b[0m)          │           \u001b[38;5;34m420\u001b[0m │\n",
       "├─────────────────────────────────┼────────────────────────┼───────────────┤\n",
       "│ time_distributed_4              │ (\u001b[38;5;45mNone\u001b[0m, \u001b[38;5;34m12\u001b[0m, \u001b[38;5;34m7\u001b[0m)          │            \u001b[38;5;34m56\u001b[0m │\n",
       "│ (\u001b[38;5;33mTimeDistributed\u001b[0m)               │                        │               │\n",
       "└─────────────────────────────────┴────────────────────────┴───────────────┘\n"
      ]
     },
     "metadata": {},
     "output_type": "display_data"
    },
    {
     "data": {
      "text/html": [
       "<pre style=\"white-space:pre;overflow-x:auto;line-height:normal;font-family:Menlo,'DejaVu Sans Mono',consolas,'Courier New',monospace\"><span style=\"font-weight: bold\"> Total params: </span><span style=\"color: #00af00; text-decoration-color: #00af00\">980</span> (3.83 KB)\n",
       "</pre>\n"
      ],
      "text/plain": [
       "\u001b[1m Total params: \u001b[0m\u001b[38;5;34m980\u001b[0m (3.83 KB)\n"
      ]
     },
     "metadata": {},
     "output_type": "display_data"
    },
    {
     "data": {
      "text/html": [
       "<pre style=\"white-space:pre;overflow-x:auto;line-height:normal;font-family:Menlo,'DejaVu Sans Mono',consolas,'Courier New',monospace\"><span style=\"font-weight: bold\"> Trainable params: </span><span style=\"color: #00af00; text-decoration-color: #00af00\">980</span> (3.83 KB)\n",
       "</pre>\n"
      ],
      "text/plain": [
       "\u001b[1m Trainable params: \u001b[0m\u001b[38;5;34m980\u001b[0m (3.83 KB)\n"
      ]
     },
     "metadata": {},
     "output_type": "display_data"
    },
    {
     "data": {
      "text/html": [
       "<pre style=\"white-space:pre;overflow-x:auto;line-height:normal;font-family:Menlo,'DejaVu Sans Mono',consolas,'Courier New',monospace\"><span style=\"font-weight: bold\"> Non-trainable params: </span><span style=\"color: #00af00; text-decoration-color: #00af00\">0</span> (0.00 B)\n",
       "</pre>\n"
      ],
      "text/plain": [
       "\u001b[1m Non-trainable params: \u001b[0m\u001b[38;5;34m0\u001b[0m (0.00 B)\n"
      ]
     },
     "metadata": {},
     "output_type": "display_data"
    }
   ],
   "source": [
    "# Designing the model structure\n",
    "model = keras.Sequential([\n",
    "    kl.Input(shape=(steps_historical, len(x_cols))),\n",
    "    kl.LSTM(7, return_sequences=False),\n",
    "    kl.RepeatVector(steps_future),\n",
    "    kl.LSTM(7, return_sequences=True),\n",
    "    kl.TimeDistributed(kl.Dense(len(y_cols)))\n",
    "])\n",
    "\n",
    "model.compile(optimizer = 'adam', loss = 'mean_absolute_percentage_error')\n",
    "model.summary()"
   ]
  },
  {
   "cell_type": "code",
   "execution_count": 79,
   "id": "3ed93e71",
   "metadata": {},
   "outputs": [
    {
     "name": "stdout",
     "output_type": "stream",
     "text": [
      "Epoch 1/100\n",
      "\u001b[1m434/434\u001b[0m \u001b[32m━━━━━━━━━━━━━━━━━━━━\u001b[0m\u001b[37m\u001b[0m \u001b[1m9s\u001b[0m 16ms/step - loss: 118.9726 - val_loss: 159.3484\n",
      "Epoch 2/100\n",
      "\u001b[1m434/434\u001b[0m \u001b[32m━━━━━━━━━━━━━━━━━━━━\u001b[0m\u001b[37m\u001b[0m \u001b[1m6s\u001b[0m 15ms/step - loss: 99.4041 - val_loss: 157.8252\n",
      "Epoch 3/100\n",
      "\u001b[1m434/434\u001b[0m \u001b[32m━━━━━━━━━━━━━━━━━━━━\u001b[0m\u001b[37m\u001b[0m \u001b[1m6s\u001b[0m 15ms/step - loss: 96.4016 - val_loss: 166.1687\n",
      "Epoch 4/100\n",
      "\u001b[1m434/434\u001b[0m \u001b[32m━━━━━━━━━━━━━━━━━━━━\u001b[0m\u001b[37m\u001b[0m \u001b[1m6s\u001b[0m 15ms/step - loss: 94.5176 - val_loss: 164.7505\n",
      "Epoch 5/100\n",
      "\u001b[1m434/434\u001b[0m \u001b[32m━━━━━━━━━━━━━━━━━━━━\u001b[0m\u001b[37m\u001b[0m \u001b[1m6s\u001b[0m 15ms/step - loss: 91.9701 - val_loss: 172.2924\n",
      "Epoch 6/100\n",
      "\u001b[1m434/434\u001b[0m \u001b[32m━━━━━━━━━━━━━━━━━━━━\u001b[0m\u001b[37m\u001b[0m \u001b[1m7s\u001b[0m 15ms/step - loss: 89.4685 - val_loss: 178.7669\n",
      "Epoch 7/100\n",
      "\u001b[1m434/434\u001b[0m \u001b[32m━━━━━━━━━━━━━━━━━━━━\u001b[0m\u001b[37m\u001b[0m \u001b[1m6s\u001b[0m 15ms/step - loss: 87.1145 - val_loss: 190.3475\n"
     ]
    }
   ],
   "source": [
    "# This will monitor validation loss and stop training if it doesn't improve after 5 epochs\n",
    "es_callback = keras.callbacks.EarlyStopping(monitor=\"val_loss\", min_delta=0, patience=5)\n",
    "\n",
    "history = model.fit(\n",
    "    x_tensor_train, \n",
    "    y_tensor_train,\n",
    "    validation_data = (x_tensor_val, y_tensor_val),\n",
    "    epochs = 100, \n",
    "    verbose = 1,\n",
    "    batch_size = None,\n",
    "    callbacks = [es_callback])"
   ]
  },
  {
   "cell_type": "code",
   "execution_count": 80,
   "id": "da9e8304",
   "metadata": {},
   "outputs": [
    {
     "data": {
      "image/png": "[encoded data removed]",
      "text/plain": [
       "<Figure size 640x480 with 1 Axes>"
      ]
     },
     "metadata": {},
     "output_type": "display_data"
    }
   ],
   "source": [
    "# Plot the training and validation loss\n",
    "plt.plot(history.history['loss'], label='Training Loss')\n",
    "plt.plot(history.history['val_loss'], label='Validation Loss')\n",
    "plt.title('Training and Validation Loss')\n",
    "plt.xlabel('Epochs')\n",
    "plt.ylabel('Loss')\n",
    "plt.legend()\n",
    "plt.show()"
   ]
  },
  {
   "cell_type": "code",
   "execution_count": 81,
   "id": "0188696a",
   "metadata": {},
   "outputs": [
    {
     "data": {
      "text/plain": [
       "array([ 1.84704579,  2.00027437,  1.81518511,  1.89912659,  1.52049143,\n",
       "       -0.01248453,  1.85137856])"
      ]
     },
     "execution_count": 81,
     "metadata": {},
     "output_type": "execute_result"
    }
   ],
   "source": [
    "y_tensor_val[0][0]"
   ]
  },
  {
   "cell_type": "code",
   "execution_count": 82,
   "id": "a8bb343c",
   "metadata": {},
   "outputs": [
    {
     "name": "stdout",
     "output_type": "stream",
     "text": [
      "\u001b[1m1/1\u001b[0m \u001b[32m━━━━━━━━━━━━━━━━━━━━\u001b[0m\u001b[37m\u001b[0m \u001b[1m0s\u001b[0m 263ms/step\n"
     ]
    },
    {
     "data": {
      "text/plain": [
       "array([0.02480185, 0.23950934, 0.11162154, 0.07271652, 0.03305481,\n",
       "       0.08356597, 0.0441924 ], dtype=float32)"
      ]
     },
     "execution_count": 82,
     "metadata": {},
     "output_type": "execute_result"
    }
   ],
   "source": [
    "model.predict(x_tensor_val[0:1])[0][0]"
   ]
  },
  {
   "cell_type": "code",
   "execution_count": 71,
   "id": "049acaab",
   "metadata": {},
   "outputs": [
    {
     "name": "stdout",
     "output_type": "stream",
     "text": [
      "\u001b[1m4/4\u001b[0m \u001b[32m━━━━━━━━━━━━━━━━━━━━\u001b[0m\u001b[37m\u001b[0m \u001b[1m0s\u001b[0m 48ms/step\n"
     ]
    },
    {
     "data": {
      "text/plain": [
       "array([[13.398315 , 71.36834  , 54.333954 , ...,  6.145635 , 31.93161  ,\n",
       "        81.79915  ],\n",
       "       [13.290259 , 70.35036  , 54.740807 , ...,  6.1424336, 32.09865  ,\n",
       "        81.15575  ],\n",
       "       [13.225269 , 68.630714 , 55.365253 , ...,  6.1714272, 32.071114 ,\n",
       "        80.89167  ],\n",
       "       ...,\n",
       "       [12.657994 , 72.1708   , 54.409004 , ...,  5.64687  , 31.43997  ,\n",
       "        93.8736   ],\n",
       "       [12.604883 , 71.907265 , 54.49948  , ...,  5.6565123, 31.443684 ,\n",
       "        94.13033  ],\n",
       "       [12.623931 , 71.81959  , 54.600266 , ...,  5.6525955, 31.446852 ,\n",
       "        94.227844 ]], dtype=float32)"
      ]
     },
     "execution_count": 71,
     "metadata": {},
     "output_type": "execute_result"
    }
   ],
   "source": [
    "# Predicting on the test set and plotting the results\n",
    "predictions = model.predict(dataset_test)\n",
    "predictions = predictions.reshape(-1, len(y_cols))\n",
    "# Inverse transform the predictions and actual values\n",
    "predictions = sc.inverse_transform(predictions)\n",
    "predictions"
   ]
  }
 ],
 "metadata": {
  "kernelspec": {
   "display_name": "svo-directed-practicum (3.12.9)",
   "language": "python",
   "name": "python3"
  },
  "language_info": {
   "codemirror_mode": {
    "name": "ipython",
    "version": 3
   },
   "file_extension": ".py",
   "mimetype": "text/x-python",
   "name": "python",
   "nbconvert_exporter": "python",
   "pygments_lexer": "ipython3",
   "version": "3.12.9"
  }
 },
 "nbformat": 4,
 "nbformat_minor": 5
}
