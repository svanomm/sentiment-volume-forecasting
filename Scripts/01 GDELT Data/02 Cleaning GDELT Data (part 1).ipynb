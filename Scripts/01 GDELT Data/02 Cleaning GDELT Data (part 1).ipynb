{
 "cells": [
  {
   "cell_type": "code",
   "execution_count": 1,
   "id": "b20e9184",
   "metadata": {},
   "outputs": [],
   "source": [
    "import pandas as pd\n",
    "import polars as pl\n",
    "import numpy as np\n",
    "import pickle, warnings, datetime\n",
    "warnings.filterwarnings('ignore')"
   ]
  },
  {
   "cell_type": "code",
   "execution_count": 2,
   "id": "7d465aa4",
   "metadata": {},
   "outputs": [],
   "source": [
    "# Determine which times to keep based on the stock data\n",
    "with open(r\"../../Data/Processed/stock_data_simple.pkl\", 'rb') as f:\n",
    "    stock_data = pickle.load(f)\n",
    "times = list(stock_data.index.unique())"
   ]
  },
  {
   "cell_type": "code",
   "execution_count": 3,
   "id": "9e8dc4da",
   "metadata": {},
   "outputs": [],
   "source": [
    "df = pl.read_csv('../../data/processed/gdelt_combined_20250610_1716.csv')"
   ]
  },
  {
   "cell_type": "code",
   "execution_count": 4,
   "id": "70131e00",
   "metadata": {},
   "outputs": [],
   "source": [
    "# For each column, drop if all values are equal to 0\n",
    "for col in df.columns:\n",
    "    if df[col].min() == df[col].max():\n",
    "        df = df.drop(col)\n",
    "df.shrink_to_fit(in_place=True)\n",
    "\n",
    "# Convert to smaller data types\n",
    "df = df.select(pl.all().shrink_dtype())"
   ]
  },
  {
   "cell_type": "code",
   "execution_count": 5,
   "id": "6b912101",
   "metadata": {},
   "outputs": [],
   "source": [
    "# Drop duplicate rows\n",
    "df = df.unique(maintain_order=True)"
   ]
  },
  {
   "cell_type": "code",
   "execution_count": 6,
   "id": "c5040b8e",
   "metadata": {},
   "outputs": [],
   "source": [
    "# Remove a list of titles that are probably home pages or other non-article content\n",
    "titles_to_remove = [\n",
    "    'News briefs',\n",
    "    'Latest Articles',\n",
    "    'The Nashville Ledger',\n",
    "    'Today in History',\n",
    "    'National News - Media One Radio Group (WWSE | WJTN | WHUG | WKSN | WQFX',\n",
    "    \"Aero-News Network: The aviation and aerospace world's daily/real-time news and information service\",\n",
    "    'Drake & 21 Savage Add More Texas Concert Dates Due To High Demand',\n",
    "    'Stock Market | FinancialContent Business Page',\n",
    "    'Radio Station WHMI 93.5 FM &#x2014; Livingston County Michigan News, Weather, Traffic, Sports, School Updates, and the Best Classic Hit',\n",
    "    'National - KSYL-AM',\n",
    "    'Business Highlights',\n",
    "    'Business Highlights',\n",
    "    'National News - 1540 WADK Newport',\n",
    "    'National - Carroll Broadcasting Inc.',\n",
    "    'ABC National - WOND',\n",
    "    \"Breaking National News - 92.7-FM TheDRIVE - Bob & Tom Mornings, Central New York's Best Rock All Day\",\n",
    "    \"ABC - National News - Xtra 99.1 FM - Today's Hits and Yesterday's Favorites\",\n",
    "    \"Ed Bruce, Legendary Country Songwriter, 'Maverick' Actor, Dead At 81\",\n",
    "    \"ABC National News - Beach 95.1 - WBPC Panama City Beach Greatest Hits of the 60s, 70s & 80s\",\n",
    "    \"CES gadget show: How watching TV will change in the 2020s\",\n",
    "    \"Despite business warnings, GOP moves ahead with voting bills\",\n",
    "    \"KTBB.com - News Weather Talk\",\n",
    "    \"AP Story\",\n",
    "    \"SRN - US News - Taylorville Daily News\",\n",
    "]\n",
    "\n",
    "# Replace empty article titles with z\n",
    "df = df.with_columns(\n",
    "    pl.col('article_title').fill_null('z')\n",
    ")\n",
    "\n",
    "df = df.filter(\n",
    "    ~df['article_title'].is_in(titles_to_remove)\n",
    ")\n",
    "\n",
    "# Drop where article_title contains 'AP News in Brief'\n",
    "df = df.filter(\n",
    "    ~df['article_title'].str.contains('AP News in Brief at', literal=True)\n",
    "    )"
   ]
  },
  {
   "cell_type": "code",
   "execution_count": 7,
   "id": "0e89330f",
   "metadata": {},
   "outputs": [
    {
     "data": {
      "text/html": [
       "<div>\n",
       "<style scoped>\n",
       "    .dataframe tbody tr th:only-of-type {\n",
       "        vertical-align: middle;\n",
       "    }\n",
       "\n",
       "    .dataframe tbody tr th {\n",
       "        vertical-align: top;\n",
       "    }\n",
       "\n",
       "    .dataframe thead th {\n",
       "        text-align: right;\n",
       "    }\n",
       "</style>\n",
       "<table border=\"1\" class=\"dataframe\">\n",
       "  <thead>\n",
       "    <tr style=\"text-align: right;\">\n",
       "      <th></th>\n",
       "      <th>V2SOURCECOMMONNAME</th>\n",
       "      <th>count</th>\n",
       "    </tr>\n",
       "  </thead>\n",
       "  <tbody>\n",
       "    <tr>\n",
       "      <th>0</th>\n",
       "      <td>ejewishphilanthropy.com</td>\n",
       "      <td>9</td>\n",
       "    </tr>\n",
       "    <tr>\n",
       "      <th>1</th>\n",
       "      <td>salisburyjournal.co.uk</td>\n",
       "      <td>95</td>\n",
       "    </tr>\n",
       "    <tr>\n",
       "      <th>2</th>\n",
       "      <td>theislamicmonthly.com</td>\n",
       "      <td>3</td>\n",
       "    </tr>\n",
       "    <tr>\n",
       "      <th>3</th>\n",
       "      <td>ksnblocal4.com</td>\n",
       "      <td>35</td>\n",
       "    </tr>\n",
       "    <tr>\n",
       "      <th>4</th>\n",
       "      <td>mobilemarketingwatch.com</td>\n",
       "      <td>1</td>\n",
       "    </tr>\n",
       "    <tr>\n",
       "      <th>...</th>\n",
       "      <td>...</td>\n",
       "      <td>...</td>\n",
       "    </tr>\n",
       "    <tr>\n",
       "      <th>14861</th>\n",
       "      <td>lansingstatejournal.com</td>\n",
       "      <td>52</td>\n",
       "    </tr>\n",
       "    <tr>\n",
       "      <th>14862</th>\n",
       "      <td>kstp.com</td>\n",
       "      <td>623</td>\n",
       "    </tr>\n",
       "    <tr>\n",
       "      <th>14863</th>\n",
       "      <td>wgow.com</td>\n",
       "      <td>395</td>\n",
       "    </tr>\n",
       "    <tr>\n",
       "      <th>14864</th>\n",
       "      <td>nextbigfuture.com</td>\n",
       "      <td>17</td>\n",
       "    </tr>\n",
       "    <tr>\n",
       "      <th>14865</th>\n",
       "      <td>krtv.com</td>\n",
       "      <td>180</td>\n",
       "    </tr>\n",
       "  </tbody>\n",
       "</table>\n",
       "<p>14866 rows × 2 columns</p>\n",
       "</div>"
      ],
      "text/plain": [
       "             V2SOURCECOMMONNAME  count\n",
       "0       ejewishphilanthropy.com      9\n",
       "1        salisburyjournal.co.uk     95\n",
       "2         theislamicmonthly.com      3\n",
       "3                ksnblocal4.com     35\n",
       "4      mobilemarketingwatch.com      1\n",
       "...                         ...    ...\n",
       "14861   lansingstatejournal.com     52\n",
       "14862                  kstp.com    623\n",
       "14863                  wgow.com    395\n",
       "14864         nextbigfuture.com     17\n",
       "14865                  krtv.com    180\n",
       "\n",
       "[14866 rows x 2 columns]"
      ]
     },
     "execution_count": 7,
     "metadata": {},
     "output_type": "execute_result"
    }
   ],
   "source": [
    "site_counts = df['V2SOURCECOMMONNAME'].value_counts().to_pandas()\n",
    "site_counts"
   ]
  },
  {
   "cell_type": "code",
   "execution_count": 8,
   "id": "50375faf",
   "metadata": {},
   "outputs": [],
   "source": [
    "# Save df to pickle file\n",
    "with open('../../data/processed/gdelt_intermediate_cleaned.pkl', 'wb') as f:\n",
    "    pickle.dump(df, f)"
   ]
  }
 ],
 "metadata": {
  "kernelspec": {
   "display_name": "svo-directed-practicum (3.12.9)",
   "language": "python",
   "name": "python3"
  },
  "language_info": {
   "codemirror_mode": {
    "name": "ipython",
    "version": 3
   },
   "file_extension": ".py",
   "mimetype": "text/x-python",
   "name": "python",
   "nbconvert_exporter": "python",
   "pygments_lexer": "ipython3",
   "version": "3.12.9"
  }
 },
 "nbformat": 4,
 "nbformat_minor": 5
}
