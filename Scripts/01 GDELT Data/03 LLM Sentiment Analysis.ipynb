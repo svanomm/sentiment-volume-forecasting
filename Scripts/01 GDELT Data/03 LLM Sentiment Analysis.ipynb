{
 "cells": [
  {
   "cell_type": "code",
   "execution_count": 1,
   "id": "77c74d43",
   "metadata": {},
   "outputs": [
    {
     "name": "stdout",
     "output_type": "stream",
     "text": [
      "WARNING:tensorflow:From c:\\Users\\Steven\\Desktop\\school github repos\\svo-directed-practicum\\.venv\\Lib\\site-packages\\tf_keras\\src\\losses.py:2976: The name tf.losses.sparse_softmax_cross_entropy is deprecated. Please use tf.compat.v1.losses.sparse_softmax_cross_entropy instead.\n",
      "\n"
     ]
    }
   ],
   "source": [
    "import pickle, warnings\n",
    "warnings.filterwarnings('ignore')\n",
    "import pandas as pd\n",
    "import numpy as np\n",
    "from sentence_transformers import SentenceTransformer\n",
    "import torch"
   ]
  },
  {
   "cell_type": "code",
   "execution_count": 2,
   "id": "b57fc29b",
   "metadata": {},
   "outputs": [],
   "source": [
    "with open('../../data/processed/gdelt_intermediate_cleaned.pkl', 'rb') as f:\n",
    "    df = pickle.load(f)"
   ]
  },
  {
   "cell_type": "code",
   "execution_count": 3,
   "id": "60d6f085",
   "metadata": {},
   "outputs": [],
   "source": [
    "df = df[['GKGRECORDID','article_title']]"
   ]
  },
  {
   "cell_type": "code",
   "execution_count": 4,
   "id": "ad17eefa",
   "metadata": {},
   "outputs": [],
   "source": [
    "# Load model: https://huggingface.co/Qwen/Qwen3-Embedding-0.6B\n",
    "model = SentenceTransformer(\"Qwen/Qwen3-Embedding-0.6B\", model_kwargs={\"torch_dtype\": \"float16\"})"
   ]
  },
  {
   "cell_type": "code",
   "execution_count": 5,
   "id": "a02c0fd8",
   "metadata": {},
   "outputs": [],
   "source": [
    "prompt = \"Instruct: Given a news headline, extract the sentiment that is most likely to affect the airline stock market\\nQuery:\""
   ]
  },
  {
   "cell_type": "code",
   "execution_count": 6,
   "id": "c3af2cfd",
   "metadata": {},
   "outputs": [
    {
     "name": "stderr",
     "output_type": "stream",
     "text": [
      "Batches: 100%|██████████| 17517/17517 [57:23<00:00,  5.09it/s] \n"
     ]
    }
   ],
   "source": [
    "# Encode the article titles with the model\n",
    "query_embeddings = model.encode(\n",
    "    df['article_title'], \n",
    "    prompt=prompt,\n",
    "    show_progress_bar=True,\n",
    "    batch_size=64\n",
    ")\n",
    "\n",
    "query_embeddings = np.array(query_embeddings)"
   ]
  },
  {
   "cell_type": "code",
   "execution_count": 7,
   "id": "958a8107",
   "metadata": {},
   "outputs": [],
   "source": [
    "for i in range(query_embeddings.shape[1]):\n",
    "    df[f'llm_dimension_{i:04d}'] = query_embeddings[:, i]"
   ]
  },
  {
   "cell_type": "code",
   "execution_count": 8,
   "id": "d4d62a59",
   "metadata": {},
   "outputs": [],
   "source": [
    "# Save df_sentiment to a pickle file\n",
    "df.drop(columns=['article_title'], inplace=True)\n",
    "\n",
    "with open('../../data/processed/gdelt_llm_sentiment.pkl', 'wb') as f:\n",
    "    pickle.dump(df, f)"
   ]
  }
 ],
 "metadata": {
  "kernelspec": {
   "display_name": "svo-directed-practicum (3.12.9)",
   "language": "python",
   "name": "python3"
  },
  "language_info": {
   "codemirror_mode": {
    "name": "ipython",
    "version": 3
   },
   "file_extension": ".py",
   "mimetype": "text/x-python",
   "name": "python",
   "nbconvert_exporter": "python",
   "pygments_lexer": "ipython3",
   "version": "3.12.10"
  }
 },
 "nbformat": 4,
 "nbformat_minor": 5
}
