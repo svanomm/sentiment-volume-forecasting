{
 "cells": [
  {
   "cell_type": "code",
   "execution_count": 1,
   "id": "c3ec176e",
   "metadata": {},
   "outputs": [],
   "source": [
    "import pandas as pd\n",
    "import numpy as np\n",
    "import pickle, warnings, datetime\n",
    "\n",
    "import matplotlib.pyplot as plt\n",
    "warnings.filterwarnings('ignore')"
   ]
  },
  {
   "cell_type": "code",
   "execution_count": 2,
   "id": "b4a664ad",
   "metadata": {},
   "outputs": [],
   "source": [
    "def downcast(df, verbose = True):\n",
    "    start_memory = df.memory_usage().sum() / 1024 ** 2\n",
    "    for col in df.columns:\n",
    "        dtype_name = df[col].dtype.name\n",
    "        if dtype_name == \"object\" or 'date' in dtype_name:\n",
    "            pass\n",
    "        elif dtype_name == \"bool\":\n",
    "            df[col] = df[col].astype(\"int8\")\n",
    "        elif dtype_name.startswith(\"int\") or (df[col].round() == df[col]).all():\n",
    "            df[col] = pd.to_numeric(df[col], downcast = \"integer\")\n",
    "        else:\n",
    "            df[col] = pd.to_numeric(df[col], downcast = \"float\")\n",
    "    end_memory = df.memory_usage().sum() / 1024 ** 2\n",
    "\n",
    "    if verbose:\n",
    "        print(\"{:.1f}% compressed\".format(100 * (start_memory - end_memory) / start_memory))\n",
    "\n",
    "    return df"
   ]
  },
  {
   "cell_type": "code",
   "execution_count": 3,
   "id": "384ed112",
   "metadata": {},
   "outputs": [],
   "source": [
    "with open('../../Data/Processed/GDELT_Clean_daily.pkl', 'rb') as f:\n",
    "    gdelt = pickle.load(f)\n",
    "\n",
    "with open('../../Data/Processed/stock_data_daily.pkl', 'rb') as f:\n",
    "    stocks = pickle.load(f)"
   ]
  },
  {
   "cell_type": "code",
   "execution_count": 6,
   "id": "799846d1",
   "metadata": {},
   "outputs": [],
   "source": [
    "# Merge the datasets by row index\n",
    "df = pd.merge(stocks, gdelt, left_index=True, right_index=True, how='inner')"
   ]
  },
  {
   "cell_type": "code",
   "execution_count": 7,
   "id": "dd211933",
   "metadata": {},
   "outputs": [],
   "source": [
    "# Ensure no missing values\n",
    "df = df.ffill().bfill()"
   ]
  },
  {
   "cell_type": "code",
   "execution_count": 8,
   "id": "28dfc338",
   "metadata": {},
   "outputs": [],
   "source": [
    "# Sort columns alphabetically\n",
    "df = df.reindex(sorted(df.columns), axis=1)"
   ]
  },
  {
   "cell_type": "code",
   "execution_count": 9,
   "id": "cb2747d9",
   "metadata": {},
   "outputs": [
    {
     "name": "stdout",
     "output_type": "stream",
     "text": [
      "45.7% compressed\n"
     ]
    }
   ],
   "source": [
    "# Downcast numeric columns to reduce memory usage\n",
    "df = downcast(df, verbose = True)"
   ]
  },
  {
   "cell_type": "code",
   "execution_count": 11,
   "id": "dc06af8c",
   "metadata": {},
   "outputs": [],
   "source": [
    "# Write to pickle\n",
    "with open('../../Data/Processed/merged_data_daily.pkl', 'wb') as f:\n",
    "    pickle.dump(df, f)"
   ]
  }
 ],
 "metadata": {
  "kernelspec": {
   "display_name": ".venv",
   "language": "python",
   "name": "python3"
  },
  "language_info": {
   "codemirror_mode": {
    "name": "ipython",
    "version": 3
   },
   "file_extension": ".py",
   "mimetype": "text/x-python",
   "name": "python",
   "nbconvert_exporter": "python",
   "pygments_lexer": "ipython3",
   "version": "3.12.10"
  }
 },
 "nbformat": 4,
 "nbformat_minor": 5
}
